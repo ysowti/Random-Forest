{
 "cells": [
  {
   "cell_type": "markdown",
   "metadata": {},
   "source": [
    "# Detect Cardiologists using NLP (Solution 1)\n",
    "\n",
    "In this Solution to the problem I use Natural Language Processing (NLP) to detect which physicians with unknown specialty are highly likely to be cardilogists. For this I divide all procedure into five steps, explanatory data analysis, preprocessing and feature extraction, modeling, evaluation and application. The main feature that we are going to use in this approach to train the classifier is 'procedure' colum, and the classifer that is going to be used is Multinomial Naive Bayesian."
   ]
  },
  {
   "cell_type": "markdown",
   "metadata": {},
   "source": [
    "# Explanatory Data Analysis\n",
    "\n",
    "In the first step which is explanatory data analysis, it is discovered that there are overall 71 unique specialties, out of which the ones with specialty as unknown form the largest group with the the highest number of physicians and the ones with specialty as cardiology form the second largest group. In this step we also see that the databses 'physician' and 'procedure' have the same number of unique identifiers, and therefore we can merge these two dataframes to simplify our analysis."
   ]
  },
  {
   "cell_type": "code",
   "execution_count": 1,
   "metadata": {
    "collapsed": true
   },
   "outputs": [],
   "source": [
    "# First we import required libraries for data processing\n",
    "import numpy as np\n",
    "import pandas as pd"
   ]
  },
  {
   "cell_type": "code",
   "execution_count": 3,
   "metadata": {
    "collapsed": false
   },
   "outputs": [
    {
     "data": {
      "text/html": [
       "<div>\n",
       "<table border=\"1\" class=\"dataframe\">\n",
       "  <thead>\n",
       "    <tr style=\"text-align: right;\">\n",
       "      <th></th>\n",
       "      <th>id</th>\n",
       "      <th>specialty</th>\n",
       "    </tr>\n",
       "  </thead>\n",
       "  <tbody>\n",
       "    <tr>\n",
       "      <th>0</th>\n",
       "      <td>0</td>\n",
       "      <td>General Surgery</td>\n",
       "    </tr>\n",
       "    <tr>\n",
       "      <th>1</th>\n",
       "      <td>1</td>\n",
       "      <td>Unknown</td>\n",
       "    </tr>\n",
       "    <tr>\n",
       "      <th>2</th>\n",
       "      <td>2</td>\n",
       "      <td>Family Practice</td>\n",
       "    </tr>\n",
       "    <tr>\n",
       "      <th>3</th>\n",
       "      <td>3</td>\n",
       "      <td>Emergency Medicine</td>\n",
       "    </tr>\n",
       "    <tr>\n",
       "      <th>4</th>\n",
       "      <td>4</td>\n",
       "      <td>Plastic and Reconstructive Surgery</td>\n",
       "    </tr>\n",
       "  </tbody>\n",
       "</table>\n",
       "</div>"
      ],
      "text/plain": [
       "   id                           specialty\n",
       "0   0                     General Surgery\n",
       "1   1                             Unknown\n",
       "2   2                     Family Practice\n",
       "3   3                  Emergency Medicine\n",
       "4   4  Plastic and Reconstructive Surgery"
      ]
     },
     "execution_count": 3,
     "metadata": {},
     "output_type": "execute_result"
    }
   ],
   "source": [
    "# Import physician database as dataframe from CSV file\n",
    "physicians = pd.read_csv('physicians.csv')\n",
    "physicians.head()"
   ]
  },
  {
   "cell_type": "code",
   "execution_count": 4,
   "metadata": {
    "collapsed": false
   },
   "outputs": [
    {
     "name": "stdout",
     "output_type": "stream",
     "text": [
      "<class 'pandas.core.frame.DataFrame'>\n",
      "RangeIndex: 36025 entries, 0 to 36024\n",
      "Data columns (total 2 columns):\n",
      "id           36025 non-null int64\n",
      "specialty    36025 non-null object\n",
      "dtypes: int64(1), object(1)\n",
      "memory usage: 563.0+ KB\n"
     ]
    }
   ],
   "source": [
    "# Get general information about physicians dataframe\n",
    "physicians.info()"
   ]
  },
  {
   "cell_type": "code",
   "execution_count": 8,
   "metadata": {
    "collapsed": false
   },
   "outputs": [
    {
     "data": {
      "text/plain": [
       "71"
      ]
     },
     "execution_count": 8,
     "metadata": {},
     "output_type": "execute_result"
    }
   ],
   "source": [
    "# How many unique values are there in specialty column\n",
    "physicians['specialty'].nunique()"
   ]
  },
  {
   "cell_type": "code",
   "execution_count": 5,
   "metadata": {
    "collapsed": false
   },
   "outputs": [
    {
     "data": {
      "text/plain": [
       "Unknown                  11092\n",
       "Cardiology                8274\n",
       "Internal Medicine         2925\n",
       "Family Practice           2197\n",
       "Emergency Medicine        1084\n",
       "Anesthesiology            1058\n",
       "Diagnostic Radiology       929\n",
       "Obstetrics/Gynecology      724\n",
       "Psychiatry                 681\n",
       "Orthopedic Surgery         655\n",
       "Name: specialty, dtype: int64"
      ]
     },
     "execution_count": 5,
     "metadata": {},
     "output_type": "execute_result"
    }
   ],
   "source": [
    "# Get value counts for values appearing in specialty column\n",
    "physicians['specialty'].value_counts().head(10)"
   ]
  },
  {
   "cell_type": "code",
   "execution_count": 6,
   "metadata": {
    "collapsed": false
   },
   "outputs": [
    {
     "data": {
      "text/html": [
       "<div>\n",
       "<table border=\"1\" class=\"dataframe\">\n",
       "  <thead>\n",
       "    <tr style=\"text-align: right;\">\n",
       "      <th></th>\n",
       "      <th>physician_id</th>\n",
       "      <th>procedure_code</th>\n",
       "      <th>procedure</th>\n",
       "      <th>number_of_patients</th>\n",
       "    </tr>\n",
       "  </thead>\n",
       "  <tbody>\n",
       "    <tr>\n",
       "      <th>0</th>\n",
       "      <td>0</td>\n",
       "      <td>99202</td>\n",
       "      <td>new_patient_office_or_other_outpatient_visit,_...</td>\n",
       "      <td>14</td>\n",
       "    </tr>\n",
       "    <tr>\n",
       "      <th>1</th>\n",
       "      <td>0</td>\n",
       "      <td>99203</td>\n",
       "      <td>new_patient_office_or_other_outpatient_visit,_...</td>\n",
       "      <td>15</td>\n",
       "    </tr>\n",
       "    <tr>\n",
       "      <th>2</th>\n",
       "      <td>0</td>\n",
       "      <td>99205</td>\n",
       "      <td>new_patient_office_or_other_outpatient_visit,_...</td>\n",
       "      <td>12</td>\n",
       "    </tr>\n",
       "    <tr>\n",
       "      <th>3</th>\n",
       "      <td>0</td>\n",
       "      <td>99212</td>\n",
       "      <td>established_patient_office_or_other_outpatient...</td>\n",
       "      <td>27</td>\n",
       "    </tr>\n",
       "    <tr>\n",
       "      <th>4</th>\n",
       "      <td>0</td>\n",
       "      <td>99213</td>\n",
       "      <td>established_patient_office_or_other_outpatient...</td>\n",
       "      <td>16</td>\n",
       "    </tr>\n",
       "  </tbody>\n",
       "</table>\n",
       "</div>"
      ],
      "text/plain": [
       "   physician_id procedure_code  \\\n",
       "0             0          99202   \n",
       "1             0          99203   \n",
       "2             0          99205   \n",
       "3             0          99212   \n",
       "4             0          99213   \n",
       "\n",
       "                                           procedure  number_of_patients  \n",
       "0  new_patient_office_or_other_outpatient_visit,_...                  14  \n",
       "1  new_patient_office_or_other_outpatient_visit,_...                  15  \n",
       "2  new_patient_office_or_other_outpatient_visit,_...                  12  \n",
       "3  established_patient_office_or_other_outpatient...                  27  \n",
       "4  established_patient_office_or_other_outpatient...                  16  "
      ]
     },
     "execution_count": 6,
     "metadata": {},
     "output_type": "execute_result"
    }
   ],
   "source": [
    "# Import procedures database as dataframe from CSV file\n",
    "procedures = pd.read_csv('procedures.csv')\n",
    "procedures.head()"
   ]
  },
  {
   "cell_type": "code",
   "execution_count": 7,
   "metadata": {
    "collapsed": false
   },
   "outputs": [
    {
     "name": "stdout",
     "output_type": "stream",
     "text": [
      "<class 'pandas.core.frame.DataFrame'>\n",
      "RangeIndex: 587774 entries, 0 to 587773\n",
      "Data columns (total 4 columns):\n",
      "physician_id          587774 non-null int64\n",
      "procedure_code        587774 non-null object\n",
      "procedure             587774 non-null object\n",
      "number_of_patients    587774 non-null int64\n",
      "dtypes: int64(2), object(2)\n",
      "memory usage: 17.9+ MB\n"
     ]
    }
   ],
   "source": [
    "# Get general information about physicians dataframe\n",
    "procedures.info()"
   ]
  },
  {
   "cell_type": "code",
   "execution_count": 9,
   "metadata": {
    "collapsed": false
   },
   "outputs": [
    {
     "data": {
      "text/plain": [
       "36025"
      ]
     },
     "execution_count": 9,
     "metadata": {},
     "output_type": "execute_result"
    }
   ],
   "source": [
    "# Number of unique identifiers in procedures dataframe\n",
    "procedures['physician_id'].nunique()"
   ]
  },
  {
   "cell_type": "code",
   "execution_count": 10,
   "metadata": {
    "collapsed": false
   },
   "outputs": [
    {
     "data": {
      "text/plain": [
       "36025"
      ]
     },
     "execution_count": 10,
     "metadata": {},
     "output_type": "execute_result"
    }
   ],
   "source": [
    "# Number of unique identifiers in physicians dataframe\n",
    "physicians['id'].nunique()"
   ]
  },
  {
   "cell_type": "markdown",
   "metadata": {},
   "source": [
    "# Preprocessing and Feature Extraction\n",
    "\n",
    "In the second step which is preprocessing and feature extraction, the physicians dataframe is merged with the procedures dataframe to create a combined table called 'physproc'. Since in this solution I use 'procedure' column as the main feature for the classifier, I only extract 'specialty' and 'procedure' columns from the 'physproc' table and group it by the 'physician_id' through concatenating all the texts in 'procedure' for each physician. The resulting dataframe is called 'physproc_grouped'. Next, I split 'physproc_grouped' into two sets of data, first dataset with known 'specialty', called 'known_physproc', that will be used to train the classifier, and the second dataset with unknown 'specialty', called 'unknown_physproc', on which the classifier will be applied to detect cardiologists. Finally, a new column, called 'Cardiology' is added to the 'known_physproc' dataset where it is labeled as '1' for specialty as 'cardiology' and '0' for others. Now, we have feature 'procedure' ready to use with label in order to train our model in next step."
   ]
  },
  {
   "cell_type": "code",
   "execution_count": 11,
   "metadata": {
    "collapsed": false
   },
   "outputs": [
    {
     "data": {
      "text/html": [
       "<div>\n",
       "<table border=\"1\" class=\"dataframe\">\n",
       "  <thead>\n",
       "    <tr style=\"text-align: right;\">\n",
       "      <th></th>\n",
       "      <th>id</th>\n",
       "      <th>specialty</th>\n",
       "      <th>physician_id</th>\n",
       "      <th>procedure_code</th>\n",
       "      <th>procedure</th>\n",
       "      <th>number_of_patients</th>\n",
       "    </tr>\n",
       "  </thead>\n",
       "  <tbody>\n",
       "    <tr>\n",
       "      <th>0</th>\n",
       "      <td>0</td>\n",
       "      <td>General Surgery</td>\n",
       "      <td>0</td>\n",
       "      <td>99202</td>\n",
       "      <td>new_patient_office_or_other_outpatient_visit,_...</td>\n",
       "      <td>14</td>\n",
       "    </tr>\n",
       "    <tr>\n",
       "      <th>1</th>\n",
       "      <td>0</td>\n",
       "      <td>General Surgery</td>\n",
       "      <td>0</td>\n",
       "      <td>99203</td>\n",
       "      <td>new_patient_office_or_other_outpatient_visit,_...</td>\n",
       "      <td>15</td>\n",
       "    </tr>\n",
       "    <tr>\n",
       "      <th>2</th>\n",
       "      <td>0</td>\n",
       "      <td>General Surgery</td>\n",
       "      <td>0</td>\n",
       "      <td>99205</td>\n",
       "      <td>new_patient_office_or_other_outpatient_visit,_...</td>\n",
       "      <td>12</td>\n",
       "    </tr>\n",
       "    <tr>\n",
       "      <th>3</th>\n",
       "      <td>0</td>\n",
       "      <td>General Surgery</td>\n",
       "      <td>0</td>\n",
       "      <td>99212</td>\n",
       "      <td>established_patient_office_or_other_outpatient...</td>\n",
       "      <td>27</td>\n",
       "    </tr>\n",
       "    <tr>\n",
       "      <th>4</th>\n",
       "      <td>0</td>\n",
       "      <td>General Surgery</td>\n",
       "      <td>0</td>\n",
       "      <td>99213</td>\n",
       "      <td>established_patient_office_or_other_outpatient...</td>\n",
       "      <td>16</td>\n",
       "    </tr>\n",
       "  </tbody>\n",
       "</table>\n",
       "</div>"
      ],
      "text/plain": [
       "   id        specialty  physician_id procedure_code  \\\n",
       "0   0  General Surgery             0          99202   \n",
       "1   0  General Surgery             0          99203   \n",
       "2   0  General Surgery             0          99205   \n",
       "3   0  General Surgery             0          99212   \n",
       "4   0  General Surgery             0          99213   \n",
       "\n",
       "                                           procedure  number_of_patients  \n",
       "0  new_patient_office_or_other_outpatient_visit,_...                  14  \n",
       "1  new_patient_office_or_other_outpatient_visit,_...                  15  \n",
       "2  new_patient_office_or_other_outpatient_visit,_...                  12  \n",
       "3  established_patient_office_or_other_outpatient...                  27  \n",
       "4  established_patient_office_or_other_outpatient...                  16  "
      ]
     },
     "execution_count": 11,
     "metadata": {},
     "output_type": "execute_result"
    }
   ],
   "source": [
    "# Merge physicians and procedures dataframe on identifiers\n",
    "physproc = pd.merge(left=physicians,right=procedures,how='inner',left_on=['id'],right_on=['physician_id'])\n",
    "physproc.head()"
   ]
  },
  {
   "cell_type": "code",
   "execution_count": 12,
   "metadata": {
    "collapsed": false
   },
   "outputs": [
    {
     "data": {
      "text/html": [
       "<div>\n",
       "<table border=\"1\" class=\"dataframe\">\n",
       "  <thead>\n",
       "    <tr style=\"text-align: right;\">\n",
       "      <th></th>\n",
       "      <th>physician_id</th>\n",
       "      <th>specialty</th>\n",
       "      <th>procedure</th>\n",
       "    </tr>\n",
       "  </thead>\n",
       "  <tbody>\n",
       "    <tr>\n",
       "      <th>0</th>\n",
       "      <td>0</td>\n",
       "      <td>General Surgery</td>\n",
       "      <td>new_patient_office_or_other_outpatient_visit,_...</td>\n",
       "    </tr>\n",
       "    <tr>\n",
       "      <th>1</th>\n",
       "      <td>1</td>\n",
       "      <td>Unknown</td>\n",
       "      <td>ultrasonic_guidance_imaging_supervision_and_in...</td>\n",
       "    </tr>\n",
       "    <tr>\n",
       "      <th>2</th>\n",
       "      <td>2</td>\n",
       "      <td>Family Practice</td>\n",
       "      <td>established_patient_office_or_other_outpatient...</td>\n",
       "    </tr>\n",
       "    <tr>\n",
       "      <th>3</th>\n",
       "      <td>3</td>\n",
       "      <td>Emergency Medicine</td>\n",
       "      <td>emergency_department_visit,_moderately_severe_...</td>\n",
       "    </tr>\n",
       "    <tr>\n",
       "      <th>4</th>\n",
       "      <td>4</td>\n",
       "      <td>Plastic and Reconstructive Surgery</td>\n",
       "      <td>new_patient_office_or_other_outpatient_visit,_...</td>\n",
       "    </tr>\n",
       "  </tbody>\n",
       "</table>\n",
       "</div>"
      ],
      "text/plain": [
       "   physician_id                           specialty  \\\n",
       "0             0                     General Surgery   \n",
       "1             1                             Unknown   \n",
       "2             2                     Family Practice   \n",
       "3             3                  Emergency Medicine   \n",
       "4             4  Plastic and Reconstructive Surgery   \n",
       "\n",
       "                                           procedure  \n",
       "0  new_patient_office_or_other_outpatient_visit,_...  \n",
       "1  ultrasonic_guidance_imaging_supervision_and_in...  \n",
       "2  established_patient_office_or_other_outpatient...  \n",
       "3  emergency_department_visit,_moderately_severe_...  \n",
       "4  new_patient_office_or_other_outpatient_visit,_...  "
      ]
     },
     "execution_count": 12,
     "metadata": {},
     "output_type": "execute_result"
    }
   ],
   "source": [
    "    \"\"\"\n",
    "    extract 'specialty' and 'procedure' columns from the 'physproc' table and group it by the \n",
    "    'physician_id' through concatenating all the texts in 'procedure' for each physician\n",
    "    \n",
    "    \"\"\" \n",
    "physproc_grouped = physproc[['physician_id','specialty','procedure']].groupby(['physician_id','specialty'])\\\n",
    "['procedure'].apply(lambda x: '_'.join(x)).reset_index()\n",
    "physproc_grouped.head()"
   ]
  },
  {
   "cell_type": "code",
   "execution_count": 13,
   "metadata": {
    "collapsed": false
   },
   "outputs": [
    {
     "data": {
      "text/plain": [
       "'new_patient_office_or_other_outpatient_visit,_typically_20_minutes_new_patient_office_or_other_outpatient_visit,_typically_30_minutes_new_patient_office_or_other_outpatient_visit,_typically_60_minutes_established_patient_office_or_other_outpatient_visit,_typically_10_minutes_established_patient_office_or_other_outpatient_visit,_typically_15_minutes_initial_hospital_inpatient_care,_typically_30_minutes_per_day_subsequent_hospital_inpatient_care,_typically_25_minutes_per_day'"
      ]
     },
     "execution_count": 13,
     "metadata": {},
     "output_type": "execute_result"
    }
   ],
   "source": [
    "# A sample procedure feature for the first row\n",
    "physproc_grouped['procedure'][0]"
   ]
  },
  {
   "cell_type": "code",
   "execution_count": 14,
   "metadata": {
    "collapsed": false
   },
   "outputs": [
    {
     "data": {
      "text/html": [
       "<div>\n",
       "<table border=\"1\" class=\"dataframe\">\n",
       "  <thead>\n",
       "    <tr style=\"text-align: right;\">\n",
       "      <th></th>\n",
       "      <th>physician_id</th>\n",
       "      <th>specialty</th>\n",
       "      <th>procedure</th>\n",
       "    </tr>\n",
       "  </thead>\n",
       "  <tbody>\n",
       "    <tr>\n",
       "      <th>0</th>\n",
       "      <td>0</td>\n",
       "      <td>General Surgery</td>\n",
       "      <td>new_patient_office_or_other_outpatient_visit,_...</td>\n",
       "    </tr>\n",
       "    <tr>\n",
       "      <th>2</th>\n",
       "      <td>2</td>\n",
       "      <td>Family Practice</td>\n",
       "      <td>established_patient_office_or_other_outpatient...</td>\n",
       "    </tr>\n",
       "    <tr>\n",
       "      <th>3</th>\n",
       "      <td>3</td>\n",
       "      <td>Emergency Medicine</td>\n",
       "      <td>emergency_department_visit,_moderately_severe_...</td>\n",
       "    </tr>\n",
       "    <tr>\n",
       "      <th>4</th>\n",
       "      <td>4</td>\n",
       "      <td>Plastic and Reconstructive Surgery</td>\n",
       "      <td>new_patient_office_or_other_outpatient_visit,_...</td>\n",
       "    </tr>\n",
       "    <tr>\n",
       "      <th>5</th>\n",
       "      <td>5</td>\n",
       "      <td>Cardiology</td>\n",
       "      <td>insertion_of_catheter_into_abdominal_pelvic_or...</td>\n",
       "    </tr>\n",
       "  </tbody>\n",
       "</table>\n",
       "</div>"
      ],
      "text/plain": [
       "   physician_id                           specialty  \\\n",
       "0             0                     General Surgery   \n",
       "2             2                     Family Practice   \n",
       "3             3                  Emergency Medicine   \n",
       "4             4  Plastic and Reconstructive Surgery   \n",
       "5             5                          Cardiology   \n",
       "\n",
       "                                           procedure  \n",
       "0  new_patient_office_or_other_outpatient_visit,_...  \n",
       "2  established_patient_office_or_other_outpatient...  \n",
       "3  emergency_department_visit,_moderately_severe_...  \n",
       "4  new_patient_office_or_other_outpatient_visit,_...  \n",
       "5  insertion_of_catheter_into_abdominal_pelvic_or...  "
      ]
     },
     "execution_count": 14,
     "metadata": {},
     "output_type": "execute_result"
    }
   ],
   "source": [
    "    \"\"\"\n",
    "    Split the physproc_grouped into known_physproc with known specialties\n",
    "    and unknown_physproc with unknown specialties\n",
    "    \n",
    "    \"\"\"\n",
    "known_physproc = physproc_grouped[physproc_grouped['specialty'] != 'Unknown']\n",
    "known_physproc.head()"
   ]
  },
  {
   "cell_type": "code",
   "execution_count": 15,
   "metadata": {
    "collapsed": false
   },
   "outputs": [
    {
     "name": "stderr",
     "output_type": "stream",
     "text": [
      "C:\\Users\\khiabaniy\\AppData\\Local\\Continuum\\Anaconda3\\lib\\site-packages\\ipykernel\\__main__.py:1: SettingWithCopyWarning: \n",
      "A value is trying to be set on a copy of a slice from a DataFrame.\n",
      "Try using .loc[row_indexer,col_indexer] = value instead\n",
      "\n",
      "See the caveats in the documentation: http://pandas.pydata.org/pandas-docs/stable/indexing.html#indexing-view-versus-copy\n",
      "  if __name__ == '__main__':\n"
     ]
    }
   ],
   "source": [
    "\"\"\" \n",
    "\n",
    "A new column, called 'Cardiology' is added to the 'known_physproc' dataset \n",
    "where it is labeled as '1' for specialty as 'cardiology' and '0' for others.\n",
    "\n",
    "\"\"\"\n",
    "\n",
    "known_physproc['Cardiology'] = known_physproc['specialty'].apply(lambda s : 1 if s == 'Cardiology' else 0)"
   ]
  },
  {
   "cell_type": "code",
   "execution_count": 16,
   "metadata": {
    "collapsed": false
   },
   "outputs": [
    {
     "data": {
      "text/html": [
       "<div>\n",
       "<table border=\"1\" class=\"dataframe\">\n",
       "  <thead>\n",
       "    <tr style=\"text-align: right;\">\n",
       "      <th></th>\n",
       "      <th>physician_id</th>\n",
       "      <th>specialty</th>\n",
       "      <th>procedure</th>\n",
       "      <th>Cardiology</th>\n",
       "    </tr>\n",
       "  </thead>\n",
       "  <tbody>\n",
       "    <tr>\n",
       "      <th>0</th>\n",
       "      <td>0</td>\n",
       "      <td>General Surgery</td>\n",
       "      <td>new_patient_office_or_other_outpatient_visit,_...</td>\n",
       "      <td>0</td>\n",
       "    </tr>\n",
       "    <tr>\n",
       "      <th>2</th>\n",
       "      <td>2</td>\n",
       "      <td>Family Practice</td>\n",
       "      <td>established_patient_office_or_other_outpatient...</td>\n",
       "      <td>0</td>\n",
       "    </tr>\n",
       "    <tr>\n",
       "      <th>3</th>\n",
       "      <td>3</td>\n",
       "      <td>Emergency Medicine</td>\n",
       "      <td>emergency_department_visit,_moderately_severe_...</td>\n",
       "      <td>0</td>\n",
       "    </tr>\n",
       "    <tr>\n",
       "      <th>4</th>\n",
       "      <td>4</td>\n",
       "      <td>Plastic and Reconstructive Surgery</td>\n",
       "      <td>new_patient_office_or_other_outpatient_visit,_...</td>\n",
       "      <td>0</td>\n",
       "    </tr>\n",
       "    <tr>\n",
       "      <th>5</th>\n",
       "      <td>5</td>\n",
       "      <td>Cardiology</td>\n",
       "      <td>insertion_of_catheter_into_abdominal_pelvic_or...</td>\n",
       "      <td>1</td>\n",
       "    </tr>\n",
       "  </tbody>\n",
       "</table>\n",
       "</div>"
      ],
      "text/plain": [
       "   physician_id                           specialty  \\\n",
       "0             0                     General Surgery   \n",
       "2             2                     Family Practice   \n",
       "3             3                  Emergency Medicine   \n",
       "4             4  Plastic and Reconstructive Surgery   \n",
       "5             5                          Cardiology   \n",
       "\n",
       "                                           procedure  Cardiology  \n",
       "0  new_patient_office_or_other_outpatient_visit,_...           0  \n",
       "2  established_patient_office_or_other_outpatient...           0  \n",
       "3  emergency_department_visit,_moderately_severe_...           0  \n",
       "4  new_patient_office_or_other_outpatient_visit,_...           0  \n",
       "5  insertion_of_catheter_into_abdominal_pelvic_or...           1  "
      ]
     },
     "execution_count": 16,
     "metadata": {},
     "output_type": "execute_result"
    }
   ],
   "source": [
    "known_physproc.head()"
   ]
  },
  {
   "cell_type": "code",
   "execution_count": 17,
   "metadata": {
    "collapsed": false
   },
   "outputs": [
    {
     "data": {
      "text/html": [
       "<div>\n",
       "<table border=\"1\" class=\"dataframe\">\n",
       "  <thead>\n",
       "    <tr style=\"text-align: right;\">\n",
       "      <th></th>\n",
       "      <th>physician_id</th>\n",
       "      <th>specialty</th>\n",
       "      <th>procedure</th>\n",
       "    </tr>\n",
       "  </thead>\n",
       "  <tbody>\n",
       "    <tr>\n",
       "      <th>1</th>\n",
       "      <td>1</td>\n",
       "      <td>Unknown</td>\n",
       "      <td>ultrasonic_guidance_imaging_supervision_and_in...</td>\n",
       "    </tr>\n",
       "    <tr>\n",
       "      <th>11</th>\n",
       "      <td>11</td>\n",
       "      <td>Unknown</td>\n",
       "      <td>anesthesia_for_lens_surgery_anesthesia_for_pro...</td>\n",
       "    </tr>\n",
       "    <tr>\n",
       "      <th>13</th>\n",
       "      <td>13</td>\n",
       "      <td>Unknown</td>\n",
       "      <td>eye_and_medical_examination_for_diagnosis_and_...</td>\n",
       "    </tr>\n",
       "    <tr>\n",
       "      <th>16</th>\n",
       "      <td>16</td>\n",
       "      <td>Unknown</td>\n",
       "      <td>removal_of_recurring_cataract_in_lens_capsule_...</td>\n",
       "    </tr>\n",
       "    <tr>\n",
       "      <th>17</th>\n",
       "      <td>17</td>\n",
       "      <td>Unknown</td>\n",
       "      <td>nuclear_medicine_study_of_vessels_of_heart_usi...</td>\n",
       "    </tr>\n",
       "  </tbody>\n",
       "</table>\n",
       "</div>"
      ],
      "text/plain": [
       "    physician_id specialty                                          procedure\n",
       "1              1   Unknown  ultrasonic_guidance_imaging_supervision_and_in...\n",
       "11            11   Unknown  anesthesia_for_lens_surgery_anesthesia_for_pro...\n",
       "13            13   Unknown  eye_and_medical_examination_for_diagnosis_and_...\n",
       "16            16   Unknown  removal_of_recurring_cataract_in_lens_capsule_...\n",
       "17            17   Unknown  nuclear_medicine_study_of_vessels_of_heart_usi..."
      ]
     },
     "execution_count": 17,
     "metadata": {},
     "output_type": "execute_result"
    }
   ],
   "source": [
    "unknown_physproc = physproc_grouped[physproc_grouped['specialty'] == 'Unknown']\n",
    "unknown_physproc.head()"
   ]
  },
  {
   "cell_type": "code",
   "execution_count": 18,
   "metadata": {
    "collapsed": false
   },
   "outputs": [
    {
     "name": "stdout",
     "output_type": "stream",
     "text": [
      "<class 'pandas.core.frame.DataFrame'>\n",
      "Int64Index: 11092 entries, 1 to 36024\n",
      "Data columns (total 3 columns):\n",
      "physician_id    11092 non-null int64\n",
      "specialty       11092 non-null object\n",
      "procedure       11092 non-null object\n",
      "dtypes: int64(1), object(2)\n",
      "memory usage: 346.6+ KB\n"
     ]
    }
   ],
   "source": [
    "unknown_physproc.info()"
   ]
  },
  {
   "cell_type": "markdown",
   "metadata": {},
   "source": [
    "# Modeling\n",
    "\n",
    "In the third step I create a pipleline of transformers that is applied on the text data from procedure feature and the labels from the 'known_physproc' formed in previouse step. This pipeline which is called 'cardio_detector' is formed of two transformers, one is CountVectorizer called 'bow' (Bag of Words), and the second one which is multiomial Naive Bayesian model called 'classifier'. \n",
    "\n",
    "However, the text data in 'procedure' column is formed of a group of words seperated by underscore that also includes stop words in english that are very common words like ('the', 'a', etc..) that add no value to our analysis. For that reason I define a function called 'text_process' that first of all splits the string data on each feature in each row corresponding to a physician_id into a list of Words (called 'ListOfWords') and then removes all stopwords from it. To have the list of stopwords I use NLTK library for NLP and import stopwords from it. 'text_process' will act as analyzer in CountVectorizer.\n",
    "\n",
    "'bow' transformer uses the function 'text_process' as its analyzer to convert these strings in 'procedure' column into lists of tokens (also known as lemmas) and then transforms it into a vector that machine learning models can understand. This will convert a collection of text documents to a matrix of token counts. The next transformer is 'classifier' based on Naive Bayesian classifier that is trained to classifiy dataset into two groups of label '1' for 'cardiologists' and '0' for others. The reason I choose Multinomial NB model is that it usually works well with text data and people usually use it for applications like spam detection.\n",
    "\n",
    "After creating pipeline of transformers, the data is split into train and test sets using train_test_split method from sklearn library with test size of 30% of all the data. In other words, the 'procedure' column, as the input feature, is splitted into two sets of procedure_train as train set and procedure_test as test set, and the output label from column 'Cardiology' is splitted into two sets of label_train and label_test. The train set is used for training the model and test set will be used in next step to evaluate the model. Finally, the 'cardio_detector' pipeline is trained on the train data (procedure_train as input feature and label_train as output) and is fit creating a pipeline object that can be used for prediction."
   ]
  },
  {
   "cell_type": "code",
   "execution_count": 19,
   "metadata": {
    "collapsed": true
   },
   "outputs": [],
   "source": [
    "# import stopwords method from nltk library\n",
    "from nltk.corpus import stopwords"
   ]
  },
  {
   "cell_type": "code",
   "execution_count": 20,
   "metadata": {
    "collapsed": true
   },
   "outputs": [],
   "source": [
    "# text process in a function that converts a string into a list of words without english stopwords in it\n",
    "def text_process(mess):\n",
    "    ListOfWords = mess.split('_')\n",
    "    return [word for word in ListOfWords if word.lower() not in stopwords.words('english')]"
   ]
  },
  {
   "cell_type": "code",
   "execution_count": 21,
   "metadata": {
    "collapsed": true
   },
   "outputs": [],
   "source": [
    "# import SciKit Learn's CountVectorizer.\n",
    "from sklearn.feature_extraction.text import CountVectorizer"
   ]
  },
  {
   "cell_type": "code",
   "execution_count": 22,
   "metadata": {
    "collapsed": true
   },
   "outputs": [],
   "source": [
    "# import Multinomial Naive Baysian classifier from sklearn library\n",
    "from sklearn.naive_bayes import MultinomialNB"
   ]
  },
  {
   "cell_type": "code",
   "execution_count": 23,
   "metadata": {
    "collapsed": true
   },
   "outputs": [],
   "source": [
    "# Create a pipeline of transformers including string vectorizer and classifier\n",
    "from sklearn.pipeline import Pipeline\n",
    "\n",
    "cardio_detector = Pipeline([\n",
    "    ('bow', CountVectorizer(analyzer=text_process)),  # strings to token integer counts\n",
    "    ('classifier', MultinomialNB()),  # Naive Bayes classifier\n",
    "])"
   ]
  },
  {
   "cell_type": "code",
   "execution_count": 24,
   "metadata": {
    "collapsed": false
   },
   "outputs": [],
   "source": [
    "# Split train test data using train_test_split method from sklearn\n",
    "from sklearn.model_selection import train_test_split\n",
    "\n",
    "procedure_train, procedure_test, label_train, label_test = \\     # Use test size of 30% in train test split\n",
    "train_test_split(known_physproc['procedure'], known_physproc['Cardiology'], test_size=0.3)"
   ]
  },
  {
   "cell_type": "code",
   "execution_count": 25,
   "metadata": {
    "collapsed": false
   },
   "outputs": [
    {
     "data": {
      "text/plain": [
       "Pipeline(steps=[('bow', CountVectorizer(analyzer=<function text_process at 0x0000026F38617400>,\n",
       "        binary=False, decode_error='strict', dtype=<class 'numpy.int64'>,\n",
       "        encoding='utf-8', input='content', lowercase=True, max_df=1.0,\n",
       "        max_features=None, min_df=1, ngram_range=(1, 1), preprocesso...None, vocabulary=None)), ('classifier', MultinomialNB(alpha=1.0, class_prior=None, fit_prior=True))])"
      ]
     },
     "execution_count": 25,
     "metadata": {},
     "output_type": "execute_result"
    }
   ],
   "source": [
    "# train the pipeline model of cardio detector on training dataset\n",
    "cardio_detector.fit(procedure_train,label_train)"
   ]
  },
  {
   "cell_type": "markdown",
   "metadata": {},
   "source": [
    "# Model Evaluation\n",
    "\n",
    "In the fourth step I use the test set that was created using train_test_split in the previouse step to evaluate performance of the model. For that I use the pipeline object called 'cardio_detector' that was fit to the training data in the previouse step, and apply it to the input feature of the test set as 'procedure_test' to generate predictions as test_predictions. Next, these prediction are compared with the available labels for test dataset to evaluate accuracy of the model. I use SciKit Learn's built-in classification report, which returns precision, recall, f1-score, and a column for support (meaning how many cases supported that classification).\n",
    "As can be seen from Evaluation report the model resulted in on average 95% accuracy (precision, recall and f1 score of 95%) for both label '1' and label '0' outputs. For label '1' outputs that correspond to the cases that are predicted as 'cardiology', precision is 0.9 meaning that 90% of positive predictions as '1' are actually '1', and recall is 0.96 meaning that model has been able to predct 96% of actual 1's as '1'. As a result, we can conclude that model is predcitiing more cardiologists than the ones actually exist."
   ]
  },
  {
   "cell_type": "code",
   "execution_count": 26,
   "metadata": {
    "collapsed": false
   },
   "outputs": [
    {
     "name": "stdout",
     "output_type": "stream",
     "text": [
      "[0 0 1 ..., 0 0 1]\n"
     ]
    }
   ],
   "source": [
    "# Use cardio_detector model to generate predictions based on test features 'procedure_test' \n",
    "test_predictions = cardio_detector.predict(procedure_test)\n",
    "print(test_predictions)"
   ]
  },
  {
   "cell_type": "code",
   "execution_count": 27,
   "metadata": {
    "collapsed": false
   },
   "outputs": [
    {
     "name": "stdout",
     "output_type": "stream",
     "text": [
      "             precision    recall  f1-score   support\n",
      "\n",
      "          0       0.98      0.95      0.96      4999\n",
      "          1       0.90      0.96      0.93      2481\n",
      "\n",
      "avg / total       0.95      0.95      0.95      7480\n",
      "\n"
     ]
    }
   ],
   "source": [
    "# I use classification_report from sklearn to return precision, recall and f1 score obtained on the test set\n",
    "from sklearn.metrics import classification_report\n",
    "print (classification_report(label_test, test_predictions))"
   ]
  },
  {
   "cell_type": "markdown",
   "metadata": {},
   "source": [
    "# Model Application\n",
    "\n",
    "As the final step I apply the trained model on the data set with unknown specialties called 'unknown_physproc' and replace the results with the 'specialty' column in this dataset. The result shows that out of all 11092 physicians in this set, 3953 are detected as cardiologists."
   ]
  },
  {
   "cell_type": "code",
   "execution_count": 28,
   "metadata": {
    "collapsed": true
   },
   "outputs": [],
   "source": [
    "# run model to creat prediction on the dataset with unknonw specialty\n",
    "application = unknown_physproc['procedure']\n",
    "unknown_predictions = cardio_detector.predict(application)"
   ]
  },
  {
   "cell_type": "code",
   "execution_count": 29,
   "metadata": {
    "collapsed": true
   },
   "outputs": [],
   "source": [
    "total = len(unknown_predictions)\n",
    "new_cardios = unknown_predictions.sum()"
   ]
  },
  {
   "cell_type": "code",
   "execution_count": 30,
   "metadata": {
    "collapsed": false
   },
   "outputs": [
    {
     "name": "stdout",
     "output_type": "stream",
     "text": [
      "Number of carodiologists found is 3953 out of 11092\n"
     ]
    }
   ],
   "source": [
    "print(\"Number of carodiologists found is {} out of {}\".format(new_cardios,total))"
   ]
  },
  {
   "cell_type": "code",
   "execution_count": 31,
   "metadata": {
    "collapsed": false
   },
   "outputs": [
    {
     "name": "stderr",
     "output_type": "stream",
     "text": [
      "C:\\Users\\khiabaniy\\AppData\\Local\\Continuum\\Anaconda3\\lib\\site-packages\\ipykernel\\__main__.py:1: SettingWithCopyWarning: \n",
      "A value is trying to be set on a copy of a slice from a DataFrame.\n",
      "Try using .loc[row_indexer,col_indexer] = value instead\n",
      "\n",
      "See the caveats in the documentation: http://pandas.pydata.org/pandas-docs/stable/indexing.html#indexing-view-versus-copy\n",
      "  if __name__ == '__main__':\n"
     ]
    }
   ],
   "source": [
    "unknown_physproc['specialty'] = ['cardiology' if s == 1 else 'others' for s in unknown_predictions]"
   ]
  },
  {
   "cell_type": "code",
   "execution_count": 33,
   "metadata": {
    "collapsed": false
   },
   "outputs": [
    {
     "data": {
      "text/html": [
       "<div>\n",
       "<table border=\"1\" class=\"dataframe\">\n",
       "  <thead>\n",
       "    <tr style=\"text-align: right;\">\n",
       "      <th></th>\n",
       "      <th>physician_id</th>\n",
       "      <th>specialty</th>\n",
       "      <th>procedure</th>\n",
       "    </tr>\n",
       "  </thead>\n",
       "  <tbody>\n",
       "    <tr>\n",
       "      <th>1</th>\n",
       "      <td>1</td>\n",
       "      <td>others</td>\n",
       "      <td>ultrasonic_guidance_imaging_supervision_and_in...</td>\n",
       "    </tr>\n",
       "    <tr>\n",
       "      <th>11</th>\n",
       "      <td>11</td>\n",
       "      <td>others</td>\n",
       "      <td>anesthesia_for_lens_surgery_anesthesia_for_pro...</td>\n",
       "    </tr>\n",
       "    <tr>\n",
       "      <th>13</th>\n",
       "      <td>13</td>\n",
       "      <td>others</td>\n",
       "      <td>eye_and_medical_examination_for_diagnosis_and_...</td>\n",
       "    </tr>\n",
       "    <tr>\n",
       "      <th>16</th>\n",
       "      <td>16</td>\n",
       "      <td>others</td>\n",
       "      <td>removal_of_recurring_cataract_in_lens_capsule_...</td>\n",
       "    </tr>\n",
       "    <tr>\n",
       "      <th>17</th>\n",
       "      <td>17</td>\n",
       "      <td>cardiology</td>\n",
       "      <td>nuclear_medicine_study_of_vessels_of_heart_usi...</td>\n",
       "    </tr>\n",
       "  </tbody>\n",
       "</table>\n",
       "</div>"
      ],
      "text/plain": [
       "    physician_id   specialty  \\\n",
       "1              1      others   \n",
       "11            11      others   \n",
       "13            13      others   \n",
       "16            16      others   \n",
       "17            17  cardiology   \n",
       "\n",
       "                                            procedure  \n",
       "1   ultrasonic_guidance_imaging_supervision_and_in...  \n",
       "11  anesthesia_for_lens_surgery_anesthesia_for_pro...  \n",
       "13  eye_and_medical_examination_for_diagnosis_and_...  \n",
       "16  removal_of_recurring_cataract_in_lens_capsule_...  \n",
       "17  nuclear_medicine_study_of_vessels_of_heart_usi...  "
      ]
     },
     "execution_count": 33,
     "metadata": {},
     "output_type": "execute_result"
    }
   ],
   "source": [
    "# The unknown dataset is no longer unknown with added predictions as its specialty column\n",
    "unknown_physproc.head()"
   ]
  }
 ],
 "metadata": {
  "kernelspec": {
   "display_name": "Python 3",
   "language": "python",
   "name": "python3"
  },
  "language_info": {
   "codemirror_mode": {
    "name": "ipython",
    "version": 3
   },
   "file_extension": ".py",
   "mimetype": "text/x-python",
   "name": "python",
   "nbconvert_exporter": "python",
   "pygments_lexer": "ipython3",
   "version": "3.6.0"
  }
 },
 "nbformat": 4,
 "nbformat_minor": 2
}
