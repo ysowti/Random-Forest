{
 "cells": [
  {
   "cell_type": "code",
   "execution_count": 2,
   "metadata": {
    "collapsed": true
   },
   "outputs": [],
   "source": [
    "import numpy as np\n",
    "import pandas as pd\n",
    "import seaborn as sns"
   ]
  },
  {
   "cell_type": "code",
   "execution_count": 3,
   "metadata": {
    "collapsed": true
   },
   "outputs": [],
   "source": [
    "import matplotlib.pyplot as plt\n",
    "%matplotlib inline"
   ]
  },
  {
   "cell_type": "code",
   "execution_count": 4,
   "metadata": {
    "collapsed": false
   },
   "outputs": [
    {
     "data": {
      "text/html": [
       "<div>\n",
       "<table border=\"1\" class=\"dataframe\">\n",
       "  <thead>\n",
       "    <tr style=\"text-align: right;\">\n",
       "      <th></th>\n",
       "      <th>id</th>\n",
       "      <th>specialty</th>\n",
       "    </tr>\n",
       "  </thead>\n",
       "  <tbody>\n",
       "    <tr>\n",
       "      <th>0</th>\n",
       "      <td>0</td>\n",
       "      <td>General Surgery</td>\n",
       "    </tr>\n",
       "    <tr>\n",
       "      <th>1</th>\n",
       "      <td>1</td>\n",
       "      <td>Unknown</td>\n",
       "    </tr>\n",
       "    <tr>\n",
       "      <th>2</th>\n",
       "      <td>2</td>\n",
       "      <td>Family Practice</td>\n",
       "    </tr>\n",
       "    <tr>\n",
       "      <th>3</th>\n",
       "      <td>3</td>\n",
       "      <td>Emergency Medicine</td>\n",
       "    </tr>\n",
       "    <tr>\n",
       "      <th>4</th>\n",
       "      <td>4</td>\n",
       "      <td>Plastic and Reconstructive Surgery</td>\n",
       "    </tr>\n",
       "  </tbody>\n",
       "</table>\n",
       "</div>"
      ],
      "text/plain": [
       "   id                           specialty\n",
       "0   0                     General Surgery\n",
       "1   1                             Unknown\n",
       "2   2                     Family Practice\n",
       "3   3                  Emergency Medicine\n",
       "4   4  Plastic and Reconstructive Surgery"
      ]
     },
     "execution_count": 4,
     "metadata": {},
     "output_type": "execute_result"
    }
   ],
   "source": [
    "physicians = pd.read_csv('physicians.csv')\n",
    "physicians.head()"
   ]
  },
  {
   "cell_type": "code",
   "execution_count": 13,
   "metadata": {
    "collapsed": false
   },
   "outputs": [
    {
     "name": "stdout",
     "output_type": "stream",
     "text": [
      "<class 'pandas.core.frame.DataFrame'>\n",
      "RangeIndex: 36025 entries, 0 to 36024\n",
      "Data columns (total 2 columns):\n",
      "id           36025 non-null int64\n",
      "specialty    36025 non-null object\n",
      "dtypes: int64(1), object(1)\n",
      "memory usage: 563.0+ KB\n"
     ]
    }
   ],
   "source": [
    "physicians.info()"
   ]
  },
  {
   "cell_type": "code",
   "execution_count": 14,
   "metadata": {
    "collapsed": false
   },
   "outputs": [
    {
     "data": {
      "text/plain": [
       "Unknown                  11092\n",
       "Cardiology                8274\n",
       "Internal Medicine         2925\n",
       "Family Practice           2197\n",
       "Emergency Medicine        1084\n",
       "Anesthesiology            1058\n",
       "Diagnostic Radiology       929\n",
       "Obstetrics/Gynecology      724\n",
       "Psychiatry                 681\n",
       "Orthopedic Surgery         655\n",
       "Name: specialty, dtype: int64"
      ]
     },
     "execution_count": 14,
     "metadata": {},
     "output_type": "execute_result"
    }
   ],
   "source": [
    "physicians['specialty'].value_counts().head(10)"
   ]
  },
  {
   "cell_type": "code",
   "execution_count": 15,
   "metadata": {
    "collapsed": false
   },
   "outputs": [
    {
     "data": {
      "text/html": [
       "<div>\n",
       "<table border=\"1\" class=\"dataframe\">\n",
       "  <thead>\n",
       "    <tr style=\"text-align: right;\">\n",
       "      <th></th>\n",
       "      <th>physician_id</th>\n",
       "      <th>procedure_code</th>\n",
       "      <th>procedure</th>\n",
       "      <th>number_of_patients</th>\n",
       "    </tr>\n",
       "  </thead>\n",
       "  <tbody>\n",
       "    <tr>\n",
       "      <th>0</th>\n",
       "      <td>0</td>\n",
       "      <td>99202</td>\n",
       "      <td>new_patient_office_or_other_outpatient_visit,_...</td>\n",
       "      <td>14</td>\n",
       "    </tr>\n",
       "    <tr>\n",
       "      <th>1</th>\n",
       "      <td>0</td>\n",
       "      <td>99203</td>\n",
       "      <td>new_patient_office_or_other_outpatient_visit,_...</td>\n",
       "      <td>15</td>\n",
       "    </tr>\n",
       "    <tr>\n",
       "      <th>2</th>\n",
       "      <td>0</td>\n",
       "      <td>99205</td>\n",
       "      <td>new_patient_office_or_other_outpatient_visit,_...</td>\n",
       "      <td>12</td>\n",
       "    </tr>\n",
       "    <tr>\n",
       "      <th>3</th>\n",
       "      <td>0</td>\n",
       "      <td>99212</td>\n",
       "      <td>established_patient_office_or_other_outpatient...</td>\n",
       "      <td>27</td>\n",
       "    </tr>\n",
       "    <tr>\n",
       "      <th>4</th>\n",
       "      <td>0</td>\n",
       "      <td>99213</td>\n",
       "      <td>established_patient_office_or_other_outpatient...</td>\n",
       "      <td>16</td>\n",
       "    </tr>\n",
       "  </tbody>\n",
       "</table>\n",
       "</div>"
      ],
      "text/plain": [
       "   physician_id procedure_code  \\\n",
       "0             0          99202   \n",
       "1             0          99203   \n",
       "2             0          99205   \n",
       "3             0          99212   \n",
       "4             0          99213   \n",
       "\n",
       "                                           procedure  number_of_patients  \n",
       "0  new_patient_office_or_other_outpatient_visit,_...                  14  \n",
       "1  new_patient_office_or_other_outpatient_visit,_...                  15  \n",
       "2  new_patient_office_or_other_outpatient_visit,_...                  12  \n",
       "3  established_patient_office_or_other_outpatient...                  27  \n",
       "4  established_patient_office_or_other_outpatient...                  16  "
      ]
     },
     "execution_count": 15,
     "metadata": {},
     "output_type": "execute_result"
    }
   ],
   "source": [
    "procedures = pd.read_csv('procedures.csv')\n",
    "procedures.head()"
   ]
  },
  {
   "cell_type": "code",
   "execution_count": 16,
   "metadata": {
    "collapsed": false
   },
   "outputs": [
    {
     "name": "stdout",
     "output_type": "stream",
     "text": [
      "<class 'pandas.core.frame.DataFrame'>\n",
      "RangeIndex: 587774 entries, 0 to 587773\n",
      "Data columns (total 4 columns):\n",
      "physician_id          587774 non-null int64\n",
      "procedure_code        587774 non-null object\n",
      "procedure             587774 non-null object\n",
      "number_of_patients    587774 non-null int64\n",
      "dtypes: int64(2), object(2)\n",
      "memory usage: 17.9+ MB\n"
     ]
    }
   ],
   "source": [
    "procedures.info()"
   ]
  },
  {
   "cell_type": "code",
   "execution_count": 17,
   "metadata": {
    "collapsed": false
   },
   "outputs": [
    {
     "data": {
      "text/plain": [
       "71"
      ]
     },
     "execution_count": 17,
     "metadata": {},
     "output_type": "execute_result"
    }
   ],
   "source": [
    "physicians['specialty'].nunique()"
   ]
  },
  {
   "cell_type": "code",
   "execution_count": 18,
   "metadata": {
    "collapsed": false
   },
   "outputs": [
    {
     "data": {
      "text/plain": [
       "36025"
      ]
     },
     "execution_count": 18,
     "metadata": {},
     "output_type": "execute_result"
    }
   ],
   "source": [
    "procedures['physician_id'].nunique()"
   ]
  },
  {
   "cell_type": "code",
   "execution_count": 19,
   "metadata": {
    "collapsed": false
   },
   "outputs": [
    {
     "data": {
      "text/plain": [
       "36025"
      ]
     },
     "execution_count": 19,
     "metadata": {},
     "output_type": "execute_result"
    }
   ],
   "source": [
    "physicians['id'].nunique()"
   ]
  },
  {
   "cell_type": "code",
   "execution_count": 20,
   "metadata": {
    "collapsed": false
   },
   "outputs": [
    {
     "data": {
      "text/html": [
       "<div>\n",
       "<table border=\"1\" class=\"dataframe\">\n",
       "  <thead>\n",
       "    <tr style=\"text-align: right;\">\n",
       "      <th></th>\n",
       "      <th>id</th>\n",
       "      <th>specialty</th>\n",
       "      <th>physician_id</th>\n",
       "      <th>procedure_code</th>\n",
       "      <th>procedure</th>\n",
       "      <th>number_of_patients</th>\n",
       "    </tr>\n",
       "  </thead>\n",
       "  <tbody>\n",
       "    <tr>\n",
       "      <th>0</th>\n",
       "      <td>0</td>\n",
       "      <td>General Surgery</td>\n",
       "      <td>0</td>\n",
       "      <td>99202</td>\n",
       "      <td>new_patient_office_or_other_outpatient_visit,_...</td>\n",
       "      <td>14</td>\n",
       "    </tr>\n",
       "    <tr>\n",
       "      <th>1</th>\n",
       "      <td>0</td>\n",
       "      <td>General Surgery</td>\n",
       "      <td>0</td>\n",
       "      <td>99203</td>\n",
       "      <td>new_patient_office_or_other_outpatient_visit,_...</td>\n",
       "      <td>15</td>\n",
       "    </tr>\n",
       "    <tr>\n",
       "      <th>2</th>\n",
       "      <td>0</td>\n",
       "      <td>General Surgery</td>\n",
       "      <td>0</td>\n",
       "      <td>99205</td>\n",
       "      <td>new_patient_office_or_other_outpatient_visit,_...</td>\n",
       "      <td>12</td>\n",
       "    </tr>\n",
       "    <tr>\n",
       "      <th>3</th>\n",
       "      <td>0</td>\n",
       "      <td>General Surgery</td>\n",
       "      <td>0</td>\n",
       "      <td>99212</td>\n",
       "      <td>established_patient_office_or_other_outpatient...</td>\n",
       "      <td>27</td>\n",
       "    </tr>\n",
       "    <tr>\n",
       "      <th>4</th>\n",
       "      <td>0</td>\n",
       "      <td>General Surgery</td>\n",
       "      <td>0</td>\n",
       "      <td>99213</td>\n",
       "      <td>established_patient_office_or_other_outpatient...</td>\n",
       "      <td>16</td>\n",
       "    </tr>\n",
       "  </tbody>\n",
       "</table>\n",
       "</div>"
      ],
      "text/plain": [
       "   id        specialty  physician_id procedure_code  \\\n",
       "0   0  General Surgery             0          99202   \n",
       "1   0  General Surgery             0          99203   \n",
       "2   0  General Surgery             0          99205   \n",
       "3   0  General Surgery             0          99212   \n",
       "4   0  General Surgery             0          99213   \n",
       "\n",
       "                                           procedure  number_of_patients  \n",
       "0  new_patient_office_or_other_outpatient_visit,_...                  14  \n",
       "1  new_patient_office_or_other_outpatient_visit,_...                  15  \n",
       "2  new_patient_office_or_other_outpatient_visit,_...                  12  \n",
       "3  established_patient_office_or_other_outpatient...                  27  \n",
       "4  established_patient_office_or_other_outpatient...                  16  "
      ]
     },
     "execution_count": 20,
     "metadata": {},
     "output_type": "execute_result"
    }
   ],
   "source": [
    "physproc = pd.merge(left=physicians,right=procedures,how='inner',left_on=['id'],right_on=['physician_id'])\n",
    "physproc.head()"
   ]
  },
  {
   "cell_type": "code",
   "execution_count": 21,
   "metadata": {
    "collapsed": false
   },
   "outputs": [
    {
     "data": {
      "text/html": [
       "<div>\n",
       "<table border=\"1\" class=\"dataframe\">\n",
       "  <thead>\n",
       "    <tr style=\"text-align: right;\">\n",
       "      <th></th>\n",
       "      <th>id</th>\n",
       "      <th>specialty</th>\n",
       "      <th>physician_id</th>\n",
       "      <th>procedure_code</th>\n",
       "      <th>procedure</th>\n",
       "      <th>number_of_patients</th>\n",
       "    </tr>\n",
       "  </thead>\n",
       "  <tbody>\n",
       "    <tr>\n",
       "      <th>0</th>\n",
       "      <td>0</td>\n",
       "      <td>General Surgery</td>\n",
       "      <td>0</td>\n",
       "      <td>99202</td>\n",
       "      <td>new_patient_office_or_other_outpatient_visit,_...</td>\n",
       "      <td>14</td>\n",
       "    </tr>\n",
       "    <tr>\n",
       "      <th>1</th>\n",
       "      <td>0</td>\n",
       "      <td>General Surgery</td>\n",
       "      <td>0</td>\n",
       "      <td>99203</td>\n",
       "      <td>new_patient_office_or_other_outpatient_visit,_...</td>\n",
       "      <td>15</td>\n",
       "    </tr>\n",
       "    <tr>\n",
       "      <th>2</th>\n",
       "      <td>0</td>\n",
       "      <td>General Surgery</td>\n",
       "      <td>0</td>\n",
       "      <td>99205</td>\n",
       "      <td>new_patient_office_or_other_outpatient_visit,_...</td>\n",
       "      <td>12</td>\n",
       "    </tr>\n",
       "    <tr>\n",
       "      <th>3</th>\n",
       "      <td>0</td>\n",
       "      <td>General Surgery</td>\n",
       "      <td>0</td>\n",
       "      <td>99212</td>\n",
       "      <td>established_patient_office_or_other_outpatient...</td>\n",
       "      <td>27</td>\n",
       "    </tr>\n",
       "    <tr>\n",
       "      <th>4</th>\n",
       "      <td>0</td>\n",
       "      <td>General Surgery</td>\n",
       "      <td>0</td>\n",
       "      <td>99213</td>\n",
       "      <td>established_patient_office_or_other_outpatient...</td>\n",
       "      <td>16</td>\n",
       "    </tr>\n",
       "  </tbody>\n",
       "</table>\n",
       "</div>"
      ],
      "text/plain": [
       "   id        specialty  physician_id procedure_code  \\\n",
       "0   0  General Surgery             0          99202   \n",
       "1   0  General Surgery             0          99203   \n",
       "2   0  General Surgery             0          99205   \n",
       "3   0  General Surgery             0          99212   \n",
       "4   0  General Surgery             0          99213   \n",
       "\n",
       "                                           procedure  number_of_patients  \n",
       "0  new_patient_office_or_other_outpatient_visit,_...                  14  \n",
       "1  new_patient_office_or_other_outpatient_visit,_...                  15  \n",
       "2  new_patient_office_or_other_outpatient_visit,_...                  12  \n",
       "3  established_patient_office_or_other_outpatient...                  27  \n",
       "4  established_patient_office_or_other_outpatient...                  16  "
      ]
     },
     "execution_count": 21,
     "metadata": {},
     "output_type": "execute_result"
    }
   ],
   "source": [
    "known_physproc = physproc[physproc['specialty'] != 'Unknown']\n",
    "known_physproc.head()"
   ]
  },
  {
   "cell_type": "code",
   "execution_count": 22,
   "metadata": {
    "collapsed": false
   },
   "outputs": [
    {
     "name": "stderr",
     "output_type": "stream",
     "text": [
      "C:\\Users\\khiabaniy\\AppData\\Local\\Continuum\\Anaconda3\\lib\\site-packages\\ipykernel\\__main__.py:1: SettingWithCopyWarning: \n",
      "A value is trying to be set on a copy of a slice from a DataFrame.\n",
      "Try using .loc[row_indexer,col_indexer] = value instead\n",
      "\n",
      "See the caveats in the documentation: http://pandas.pydata.org/pandas-docs/stable/indexing.html#indexing-view-versus-copy\n",
      "  if __name__ == '__main__':\n"
     ]
    }
   ],
   "source": [
    "known_physproc['Cardiology'] = known_physproc['specialty'].apply(lambda s : 1 if s == 'Cardiology' else 0)"
   ]
  },
  {
   "cell_type": "code",
   "execution_count": 23,
   "metadata": {
    "collapsed": false
   },
   "outputs": [
    {
     "data": {
      "text/html": [
       "<div>\n",
       "<table border=\"1\" class=\"dataframe\">\n",
       "  <thead>\n",
       "    <tr style=\"text-align: right;\">\n",
       "      <th></th>\n",
       "      <th>id</th>\n",
       "      <th>specialty</th>\n",
       "      <th>physician_id</th>\n",
       "      <th>procedure_code</th>\n",
       "      <th>procedure</th>\n",
       "      <th>number_of_patients</th>\n",
       "      <th>Cardiology</th>\n",
       "    </tr>\n",
       "  </thead>\n",
       "  <tbody>\n",
       "    <tr>\n",
       "      <th>0</th>\n",
       "      <td>0</td>\n",
       "      <td>General Surgery</td>\n",
       "      <td>0</td>\n",
       "      <td>99202</td>\n",
       "      <td>new_patient_office_or_other_outpatient_visit,_...</td>\n",
       "      <td>14</td>\n",
       "      <td>0</td>\n",
       "    </tr>\n",
       "    <tr>\n",
       "      <th>1</th>\n",
       "      <td>0</td>\n",
       "      <td>General Surgery</td>\n",
       "      <td>0</td>\n",
       "      <td>99203</td>\n",
       "      <td>new_patient_office_or_other_outpatient_visit,_...</td>\n",
       "      <td>15</td>\n",
       "      <td>0</td>\n",
       "    </tr>\n",
       "    <tr>\n",
       "      <th>2</th>\n",
       "      <td>0</td>\n",
       "      <td>General Surgery</td>\n",
       "      <td>0</td>\n",
       "      <td>99205</td>\n",
       "      <td>new_patient_office_or_other_outpatient_visit,_...</td>\n",
       "      <td>12</td>\n",
       "      <td>0</td>\n",
       "    </tr>\n",
       "    <tr>\n",
       "      <th>3</th>\n",
       "      <td>0</td>\n",
       "      <td>General Surgery</td>\n",
       "      <td>0</td>\n",
       "      <td>99212</td>\n",
       "      <td>established_patient_office_or_other_outpatient...</td>\n",
       "      <td>27</td>\n",
       "      <td>0</td>\n",
       "    </tr>\n",
       "    <tr>\n",
       "      <th>4</th>\n",
       "      <td>0</td>\n",
       "      <td>General Surgery</td>\n",
       "      <td>0</td>\n",
       "      <td>99213</td>\n",
       "      <td>established_patient_office_or_other_outpatient...</td>\n",
       "      <td>16</td>\n",
       "      <td>0</td>\n",
       "    </tr>\n",
       "  </tbody>\n",
       "</table>\n",
       "</div>"
      ],
      "text/plain": [
       "   id        specialty  physician_id procedure_code  \\\n",
       "0   0  General Surgery             0          99202   \n",
       "1   0  General Surgery             0          99203   \n",
       "2   0  General Surgery             0          99205   \n",
       "3   0  General Surgery             0          99212   \n",
       "4   0  General Surgery             0          99213   \n",
       "\n",
       "                                           procedure  number_of_patients  \\\n",
       "0  new_patient_office_or_other_outpatient_visit,_...                  14   \n",
       "1  new_patient_office_or_other_outpatient_visit,_...                  15   \n",
       "2  new_patient_office_or_other_outpatient_visit,_...                  12   \n",
       "3  established_patient_office_or_other_outpatient...                  27   \n",
       "4  established_patient_office_or_other_outpatient...                  16   \n",
       "\n",
       "   Cardiology  \n",
       "0           0  \n",
       "1           0  \n",
       "2           0  \n",
       "3           0  \n",
       "4           0  "
      ]
     },
     "execution_count": 23,
     "metadata": {},
     "output_type": "execute_result"
    }
   ],
   "source": [
    "known_physproc.head()"
   ]
  },
  {
   "cell_type": "code",
   "execution_count": 24,
   "metadata": {
    "collapsed": false
   },
   "outputs": [
    {
     "data": {
      "text/html": [
       "<div>\n",
       "<table border=\"1\" class=\"dataframe\">\n",
       "  <thead>\n",
       "    <tr style=\"text-align: right;\">\n",
       "      <th></th>\n",
       "      <th>id</th>\n",
       "      <th>specialty</th>\n",
       "      <th>physician_id</th>\n",
       "      <th>procedure_code</th>\n",
       "      <th>procedure</th>\n",
       "      <th>number_of_patients</th>\n",
       "    </tr>\n",
       "  </thead>\n",
       "  <tbody>\n",
       "    <tr>\n",
       "      <th>7</th>\n",
       "      <td>1</td>\n",
       "      <td>Unknown</td>\n",
       "      <td>1</td>\n",
       "      <td>76942</td>\n",
       "      <td>ultrasonic_guidance_imaging_supervision_and_in...</td>\n",
       "      <td>14</td>\n",
       "    </tr>\n",
       "    <tr>\n",
       "      <th>164</th>\n",
       "      <td>11</td>\n",
       "      <td>Unknown</td>\n",
       "      <td>11</td>\n",
       "      <td>00142</td>\n",
       "      <td>anesthesia_for_lens_surgery</td>\n",
       "      <td>29</td>\n",
       "    </tr>\n",
       "    <tr>\n",
       "      <th>165</th>\n",
       "      <td>11</td>\n",
       "      <td>Unknown</td>\n",
       "      <td>11</td>\n",
       "      <td>00400</td>\n",
       "      <td>anesthesia_for_procedure_on_skin_of_arms,_legs...</td>\n",
       "      <td>18</td>\n",
       "    </tr>\n",
       "    <tr>\n",
       "      <th>166</th>\n",
       "      <td>11</td>\n",
       "      <td>Unknown</td>\n",
       "      <td>11</td>\n",
       "      <td>00520</td>\n",
       "      <td>anesthesia_for_closed_procedure_in_chest</td>\n",
       "      <td>16</td>\n",
       "    </tr>\n",
       "    <tr>\n",
       "      <th>167</th>\n",
       "      <td>11</td>\n",
       "      <td>Unknown</td>\n",
       "      <td>11</td>\n",
       "      <td>00740</td>\n",
       "      <td>anesthesia_for_procedure_on_gastrointestinal_t...</td>\n",
       "      <td>14</td>\n",
       "    </tr>\n",
       "  </tbody>\n",
       "</table>\n",
       "</div>"
      ],
      "text/plain": [
       "     id specialty  physician_id procedure_code  \\\n",
       "7     1   Unknown             1          76942   \n",
       "164  11   Unknown            11          00142   \n",
       "165  11   Unknown            11          00400   \n",
       "166  11   Unknown            11          00520   \n",
       "167  11   Unknown            11          00740   \n",
       "\n",
       "                                             procedure  number_of_patients  \n",
       "7    ultrasonic_guidance_imaging_supervision_and_in...                  14  \n",
       "164                        anesthesia_for_lens_surgery                  29  \n",
       "165  anesthesia_for_procedure_on_skin_of_arms,_legs...                  18  \n",
       "166           anesthesia_for_closed_procedure_in_chest                  16  \n",
       "167  anesthesia_for_procedure_on_gastrointestinal_t...                  14  "
      ]
     },
     "execution_count": 24,
     "metadata": {},
     "output_type": "execute_result"
    }
   ],
   "source": [
    "unknown_physproc = physproc[physproc['specialty'] == 'Unknown']\n",
    "unknown_physproc.head()"
   ]
  },
  {
   "cell_type": "code",
   "execution_count": 25,
   "metadata": {
    "collapsed": false
   },
   "outputs": [
    {
     "name": "stdout",
     "output_type": "stream",
     "text": [
      "<class 'pandas.core.frame.DataFrame'>\n",
      "Int64Index: 181063 entries, 7 to 587773\n",
      "Data columns (total 6 columns):\n",
      "id                    181063 non-null int64\n",
      "specialty             181063 non-null object\n",
      "physician_id          181063 non-null int64\n",
      "procedure_code        181063 non-null object\n",
      "procedure             181063 non-null object\n",
      "number_of_patients    181063 non-null int64\n",
      "dtypes: int64(3), object(3)\n",
      "memory usage: 9.7+ MB\n"
     ]
    }
   ],
   "source": [
    "unknown_physproc.info()"
   ]
  },
  {
   "cell_type": "code",
   "execution_count": 33,
   "metadata": {
    "collapsed": false
   },
   "outputs": [
    {
     "data": {
      "text/html": [
       "<div>\n",
       "<table border=\"1\" class=\"dataframe\">\n",
       "  <thead>\n",
       "    <tr style=\"text-align: right;\">\n",
       "      <th></th>\n",
       "      <th>physician_id</th>\n",
       "      <th>Cardiology</th>\n",
       "      <th>number_of_patients</th>\n",
       "    </tr>\n",
       "  </thead>\n",
       "  <tbody>\n",
       "    <tr>\n",
       "      <th>0</th>\n",
       "      <td>0</td>\n",
       "      <td>0</td>\n",
       "      <td>109</td>\n",
       "    </tr>\n",
       "    <tr>\n",
       "      <th>1</th>\n",
       "      <td>2</td>\n",
       "      <td>0</td>\n",
       "      <td>89</td>\n",
       "    </tr>\n",
       "    <tr>\n",
       "      <th>2</th>\n",
       "      <td>3</td>\n",
       "      <td>0</td>\n",
       "      <td>437</td>\n",
       "    </tr>\n",
       "    <tr>\n",
       "      <th>3</th>\n",
       "      <td>4</td>\n",
       "      <td>0</td>\n",
       "      <td>33</td>\n",
       "    </tr>\n",
       "    <tr>\n",
       "      <th>4</th>\n",
       "      <td>5</td>\n",
       "      <td>1</td>\n",
       "      <td>1532</td>\n",
       "    </tr>\n",
       "  </tbody>\n",
       "</table>\n",
       "</div>"
      ],
      "text/plain": [
       "   physician_id  Cardiology  number_of_patients\n",
       "0             0           0                 109\n",
       "1             2           0                  89\n",
       "2             3           0                 437\n",
       "3             4           0                  33\n",
       "4             5           1                1532"
      ]
     },
     "execution_count": 33,
     "metadata": {},
     "output_type": "execute_result"
    }
   ],
   "source": [
    "physproc_patients = known_physproc[['physician_id','Cardiology','number_of_patients']].groupby(['physician_id','Cardiology'])\\\n",
    "['number_of_patients'].sum().reset_index()\n",
    "physproc_patients.head()"
   ]
  },
  {
   "cell_type": "code",
   "execution_count": 36,
   "metadata": {
    "collapsed": false
   },
   "outputs": [
    {
     "data": {
      "text/plain": [
       "<seaborn.axisgrid.FacetGrid at 0x1ef8943a198>"
      ]
     },
     "execution_count": 36,
     "metadata": {},
     "output_type": "execute_result"
    },
    {
     "data": {
      "image/png": "[encoded data removed]",
      "text/plain": [
       "<matplotlib.figure.Figure at 0x1ef814342e8>"
      ]
     },
     "metadata": {},
     "output_type": "display_data"
    }
   ],
   "source": [
    "g = sns.FacetGrid(physproc_patients,col='Cardiology',size=4, aspect=1,xlim=(0,8000))\n",
    "g.map(plt.hist,'number_of_patients',bins=500,normed=True)"
   ]
  },
  {
   "cell_type": "code",
   "execution_count": 38,
   "metadata": {
    "collapsed": false
   },
   "outputs": [
    {
     "data": {
      "text/plain": [
       "Cardiology       \n",
       "0           count    16659.000000\n",
       "            mean       946.602617\n",
       "            std       1483.394480\n",
       "            min         11.000000\n",
       "            25%        171.000000\n",
       "            50%        487.000000\n",
       "            75%       1126.500000\n",
       "            max      58805.000000\n",
       "1           count     8274.000000\n",
       "            mean      2323.924462\n",
       "            std       1837.959697\n",
       "            min         11.000000\n",
       "            25%        994.000000\n",
       "            50%       2019.500000\n",
       "            75%       3202.500000\n",
       "            max      26028.000000\n",
       "Name: number_of_patients, dtype: float64"
      ]
     },
     "execution_count": 38,
     "metadata": {},
     "output_type": "execute_result"
    }
   ],
   "source": [
    "physproc_patients.groupby(['Cardiology'])['number_of_patients'].describe()"
   ]
  }
 ],
 "metadata": {
  "kernelspec": {
   "display_name": "Python 3",
   "language": "python",
   "name": "python3"
  },
  "language_info": {
   "codemirror_mode": {
    "name": "ipython",
    "version": 3
   },
   "file_extension": ".py",
   "mimetype": "text/x-python",
   "name": "python",
   "nbconvert_exporter": "python",
   "pygments_lexer": "ipython3",
   "version": "3.6.0"
  }
 },
 "nbformat": 4,
 "nbformat_minor": 2
}
