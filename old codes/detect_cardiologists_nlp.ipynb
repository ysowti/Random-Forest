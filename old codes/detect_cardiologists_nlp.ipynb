{
 "cells": [
  {
   "cell_type": "code",
   "execution_count": 1,
   "metadata": {
    "collapsed": true
   },
   "outputs": [],
   "source": [
    "import numpy as np\n",
    "import pandas as pd\n",
    "import seaborn as sns"
   ]
  },
  {
   "cell_type": "code",
   "execution_count": 2,
   "metadata": {
    "collapsed": true
   },
   "outputs": [],
   "source": [
    "import matplotlib.pyplot as plt\n",
    "%matplotlib inline"
   ]
  },
  {
   "cell_type": "code",
   "execution_count": 3,
   "metadata": {
    "collapsed": false
   },
   "outputs": [
    {
     "data": {
      "text/html": [
       "<div>\n",
       "<table border=\"1\" class=\"dataframe\">\n",
       "  <thead>\n",
       "    <tr style=\"text-align: right;\">\n",
       "      <th></th>\n",
       "      <th>id</th>\n",
       "      <th>specialty</th>\n",
       "    </tr>\n",
       "  </thead>\n",
       "  <tbody>\n",
       "    <tr>\n",
       "      <th>0</th>\n",
       "      <td>0</td>\n",
       "      <td>General Surgery</td>\n",
       "    </tr>\n",
       "    <tr>\n",
       "      <th>1</th>\n",
       "      <td>1</td>\n",
       "      <td>Unknown</td>\n",
       "    </tr>\n",
       "    <tr>\n",
       "      <th>2</th>\n",
       "      <td>2</td>\n",
       "      <td>Family Practice</td>\n",
       "    </tr>\n",
       "    <tr>\n",
       "      <th>3</th>\n",
       "      <td>3</td>\n",
       "      <td>Emergency Medicine</td>\n",
       "    </tr>\n",
       "    <tr>\n",
       "      <th>4</th>\n",
       "      <td>4</td>\n",
       "      <td>Plastic and Reconstructive Surgery</td>\n",
       "    </tr>\n",
       "  </tbody>\n",
       "</table>\n",
       "</div>"
      ],
      "text/plain": [
       "   id                           specialty\n",
       "0   0                     General Surgery\n",
       "1   1                             Unknown\n",
       "2   2                     Family Practice\n",
       "3   3                  Emergency Medicine\n",
       "4   4  Plastic and Reconstructive Surgery"
      ]
     },
     "execution_count": 3,
     "metadata": {},
     "output_type": "execute_result"
    }
   ],
   "source": [
    "physicians = pd.read_csv('physicians.csv')\n",
    "physicians.head()"
   ]
  },
  {
   "cell_type": "code",
   "execution_count": 4,
   "metadata": {
    "collapsed": false
   },
   "outputs": [
    {
     "name": "stdout",
     "output_type": "stream",
     "text": [
      "<class 'pandas.core.frame.DataFrame'>\n",
      "RangeIndex: 36025 entries, 0 to 36024\n",
      "Data columns (total 2 columns):\n",
      "id           36025 non-null int64\n",
      "specialty    36025 non-null object\n",
      "dtypes: int64(1), object(1)\n",
      "memory usage: 563.0+ KB\n"
     ]
    }
   ],
   "source": [
    "physicians.info()"
   ]
  },
  {
   "cell_type": "code",
   "execution_count": 5,
   "metadata": {
    "collapsed": false
   },
   "outputs": [
    {
     "data": {
      "text/plain": [
       "Unknown                  11092\n",
       "Cardiology                8274\n",
       "Internal Medicine         2925\n",
       "Family Practice           2197\n",
       "Emergency Medicine        1084\n",
       "Anesthesiology            1058\n",
       "Diagnostic Radiology       929\n",
       "Obstetrics/Gynecology      724\n",
       "Psychiatry                 681\n",
       "Orthopedic Surgery         655\n",
       "Name: specialty, dtype: int64"
      ]
     },
     "execution_count": 5,
     "metadata": {},
     "output_type": "execute_result"
    }
   ],
   "source": [
    "physicians['specialty'].value_counts().head(10)"
   ]
  },
  {
   "cell_type": "code",
   "execution_count": 6,
   "metadata": {
    "collapsed": false
   },
   "outputs": [
    {
     "data": {
      "text/html": [
       "<div>\n",
       "<table border=\"1\" class=\"dataframe\">\n",
       "  <thead>\n",
       "    <tr style=\"text-align: right;\">\n",
       "      <th></th>\n",
       "      <th>physician_id</th>\n",
       "      <th>procedure_code</th>\n",
       "      <th>procedure</th>\n",
       "      <th>number_of_patients</th>\n",
       "    </tr>\n",
       "  </thead>\n",
       "  <tbody>\n",
       "    <tr>\n",
       "      <th>0</th>\n",
       "      <td>0</td>\n",
       "      <td>99202</td>\n",
       "      <td>new_patient_office_or_other_outpatient_visit,_...</td>\n",
       "      <td>14</td>\n",
       "    </tr>\n",
       "    <tr>\n",
       "      <th>1</th>\n",
       "      <td>0</td>\n",
       "      <td>99203</td>\n",
       "      <td>new_patient_office_or_other_outpatient_visit,_...</td>\n",
       "      <td>15</td>\n",
       "    </tr>\n",
       "    <tr>\n",
       "      <th>2</th>\n",
       "      <td>0</td>\n",
       "      <td>99205</td>\n",
       "      <td>new_patient_office_or_other_outpatient_visit,_...</td>\n",
       "      <td>12</td>\n",
       "    </tr>\n",
       "    <tr>\n",
       "      <th>3</th>\n",
       "      <td>0</td>\n",
       "      <td>99212</td>\n",
       "      <td>established_patient_office_or_other_outpatient...</td>\n",
       "      <td>27</td>\n",
       "    </tr>\n",
       "    <tr>\n",
       "      <th>4</th>\n",
       "      <td>0</td>\n",
       "      <td>99213</td>\n",
       "      <td>established_patient_office_or_other_outpatient...</td>\n",
       "      <td>16</td>\n",
       "    </tr>\n",
       "  </tbody>\n",
       "</table>\n",
       "</div>"
      ],
      "text/plain": [
       "   physician_id procedure_code  \\\n",
       "0             0          99202   \n",
       "1             0          99203   \n",
       "2             0          99205   \n",
       "3             0          99212   \n",
       "4             0          99213   \n",
       "\n",
       "                                           procedure  number_of_patients  \n",
       "0  new_patient_office_or_other_outpatient_visit,_...                  14  \n",
       "1  new_patient_office_or_other_outpatient_visit,_...                  15  \n",
       "2  new_patient_office_or_other_outpatient_visit,_...                  12  \n",
       "3  established_patient_office_or_other_outpatient...                  27  \n",
       "4  established_patient_office_or_other_outpatient...                  16  "
      ]
     },
     "execution_count": 6,
     "metadata": {},
     "output_type": "execute_result"
    }
   ],
   "source": [
    "procedures = pd.read_csv('procedures.csv')\n",
    "procedures.head()"
   ]
  },
  {
   "cell_type": "code",
   "execution_count": 7,
   "metadata": {
    "collapsed": false
   },
   "outputs": [
    {
     "name": "stdout",
     "output_type": "stream",
     "text": [
      "<class 'pandas.core.frame.DataFrame'>\n",
      "RangeIndex: 587774 entries, 0 to 587773\n",
      "Data columns (total 4 columns):\n",
      "physician_id          587774 non-null int64\n",
      "procedure_code        587774 non-null object\n",
      "procedure             587774 non-null object\n",
      "number_of_patients    587774 non-null int64\n",
      "dtypes: int64(2), object(2)\n",
      "memory usage: 17.9+ MB\n"
     ]
    }
   ],
   "source": [
    "procedures.info()"
   ]
  },
  {
   "cell_type": "code",
   "execution_count": 8,
   "metadata": {
    "collapsed": false
   },
   "outputs": [
    {
     "data": {
      "text/plain": [
       "71"
      ]
     },
     "execution_count": 8,
     "metadata": {},
     "output_type": "execute_result"
    }
   ],
   "source": [
    "physicians['specialty'].nunique()"
   ]
  },
  {
   "cell_type": "code",
   "execution_count": 9,
   "metadata": {
    "collapsed": false
   },
   "outputs": [
    {
     "data": {
      "text/plain": [
       "36025"
      ]
     },
     "execution_count": 9,
     "metadata": {},
     "output_type": "execute_result"
    }
   ],
   "source": [
    "procedures['physician_id'].nunique()"
   ]
  },
  {
   "cell_type": "code",
   "execution_count": 10,
   "metadata": {
    "collapsed": false
   },
   "outputs": [
    {
     "data": {
      "text/plain": [
       "36025"
      ]
     },
     "execution_count": 10,
     "metadata": {},
     "output_type": "execute_result"
    }
   ],
   "source": [
    "physicians['id'].nunique()"
   ]
  },
  {
   "cell_type": "code",
   "execution_count": 11,
   "metadata": {
    "collapsed": false
   },
   "outputs": [
    {
     "data": {
      "text/html": [
       "<div>\n",
       "<table border=\"1\" class=\"dataframe\">\n",
       "  <thead>\n",
       "    <tr style=\"text-align: right;\">\n",
       "      <th></th>\n",
       "      <th>id</th>\n",
       "      <th>specialty</th>\n",
       "      <th>physician_id</th>\n",
       "      <th>procedure_code</th>\n",
       "      <th>procedure</th>\n",
       "      <th>number_of_patients</th>\n",
       "    </tr>\n",
       "  </thead>\n",
       "  <tbody>\n",
       "    <tr>\n",
       "      <th>0</th>\n",
       "      <td>0</td>\n",
       "      <td>General Surgery</td>\n",
       "      <td>0</td>\n",
       "      <td>99202</td>\n",
       "      <td>new_patient_office_or_other_outpatient_visit,_...</td>\n",
       "      <td>14</td>\n",
       "    </tr>\n",
       "    <tr>\n",
       "      <th>1</th>\n",
       "      <td>0</td>\n",
       "      <td>General Surgery</td>\n",
       "      <td>0</td>\n",
       "      <td>99203</td>\n",
       "      <td>new_patient_office_or_other_outpatient_visit,_...</td>\n",
       "      <td>15</td>\n",
       "    </tr>\n",
       "    <tr>\n",
       "      <th>2</th>\n",
       "      <td>0</td>\n",
       "      <td>General Surgery</td>\n",
       "      <td>0</td>\n",
       "      <td>99205</td>\n",
       "      <td>new_patient_office_or_other_outpatient_visit,_...</td>\n",
       "      <td>12</td>\n",
       "    </tr>\n",
       "    <tr>\n",
       "      <th>3</th>\n",
       "      <td>0</td>\n",
       "      <td>General Surgery</td>\n",
       "      <td>0</td>\n",
       "      <td>99212</td>\n",
       "      <td>established_patient_office_or_other_outpatient...</td>\n",
       "      <td>27</td>\n",
       "    </tr>\n",
       "    <tr>\n",
       "      <th>4</th>\n",
       "      <td>0</td>\n",
       "      <td>General Surgery</td>\n",
       "      <td>0</td>\n",
       "      <td>99213</td>\n",
       "      <td>established_patient_office_or_other_outpatient...</td>\n",
       "      <td>16</td>\n",
       "    </tr>\n",
       "  </tbody>\n",
       "</table>\n",
       "</div>"
      ],
      "text/plain": [
       "   id        specialty  physician_id procedure_code  \\\n",
       "0   0  General Surgery             0          99202   \n",
       "1   0  General Surgery             0          99203   \n",
       "2   0  General Surgery             0          99205   \n",
       "3   0  General Surgery             0          99212   \n",
       "4   0  General Surgery             0          99213   \n",
       "\n",
       "                                           procedure  number_of_patients  \n",
       "0  new_patient_office_or_other_outpatient_visit,_...                  14  \n",
       "1  new_patient_office_or_other_outpatient_visit,_...                  15  \n",
       "2  new_patient_office_or_other_outpatient_visit,_...                  12  \n",
       "3  established_patient_office_or_other_outpatient...                  27  \n",
       "4  established_patient_office_or_other_outpatient...                  16  "
      ]
     },
     "execution_count": 11,
     "metadata": {},
     "output_type": "execute_result"
    }
   ],
   "source": [
    "physproc = pd.merge(left=physicians,right=procedures,how='inner',left_on=['id'],right_on=['physician_id'])\n",
    "physproc.head()"
   ]
  },
  {
   "cell_type": "code",
   "execution_count": 12,
   "metadata": {
    "collapsed": false
   },
   "outputs": [
    {
     "data": {
      "text/html": [
       "<div>\n",
       "<table border=\"1\" class=\"dataframe\">\n",
       "  <thead>\n",
       "    <tr style=\"text-align: right;\">\n",
       "      <th></th>\n",
       "      <th>id</th>\n",
       "      <th>specialty</th>\n",
       "      <th>physician_id</th>\n",
       "      <th>procedure_code</th>\n",
       "      <th>procedure</th>\n",
       "      <th>number_of_patients</th>\n",
       "    </tr>\n",
       "  </thead>\n",
       "  <tbody>\n",
       "    <tr>\n",
       "      <th>0</th>\n",
       "      <td>0</td>\n",
       "      <td>General Surgery</td>\n",
       "      <td>0</td>\n",
       "      <td>99202</td>\n",
       "      <td>new_patient_office_or_other_outpatient_visit,_...</td>\n",
       "      <td>14</td>\n",
       "    </tr>\n",
       "    <tr>\n",
       "      <th>1</th>\n",
       "      <td>0</td>\n",
       "      <td>General Surgery</td>\n",
       "      <td>0</td>\n",
       "      <td>99203</td>\n",
       "      <td>new_patient_office_or_other_outpatient_visit,_...</td>\n",
       "      <td>15</td>\n",
       "    </tr>\n",
       "    <tr>\n",
       "      <th>2</th>\n",
       "      <td>0</td>\n",
       "      <td>General Surgery</td>\n",
       "      <td>0</td>\n",
       "      <td>99205</td>\n",
       "      <td>new_patient_office_or_other_outpatient_visit,_...</td>\n",
       "      <td>12</td>\n",
       "    </tr>\n",
       "    <tr>\n",
       "      <th>3</th>\n",
       "      <td>0</td>\n",
       "      <td>General Surgery</td>\n",
       "      <td>0</td>\n",
       "      <td>99212</td>\n",
       "      <td>established_patient_office_or_other_outpatient...</td>\n",
       "      <td>27</td>\n",
       "    </tr>\n",
       "    <tr>\n",
       "      <th>4</th>\n",
       "      <td>0</td>\n",
       "      <td>General Surgery</td>\n",
       "      <td>0</td>\n",
       "      <td>99213</td>\n",
       "      <td>established_patient_office_or_other_outpatient...</td>\n",
       "      <td>16</td>\n",
       "    </tr>\n",
       "  </tbody>\n",
       "</table>\n",
       "</div>"
      ],
      "text/plain": [
       "   id        specialty  physician_id procedure_code  \\\n",
       "0   0  General Surgery             0          99202   \n",
       "1   0  General Surgery             0          99203   \n",
       "2   0  General Surgery             0          99205   \n",
       "3   0  General Surgery             0          99212   \n",
       "4   0  General Surgery             0          99213   \n",
       "\n",
       "                                           procedure  number_of_patients  \n",
       "0  new_patient_office_or_other_outpatient_visit,_...                  14  \n",
       "1  new_patient_office_or_other_outpatient_visit,_...                  15  \n",
       "2  new_patient_office_or_other_outpatient_visit,_...                  12  \n",
       "3  established_patient_office_or_other_outpatient...                  27  \n",
       "4  established_patient_office_or_other_outpatient...                  16  "
      ]
     },
     "execution_count": 12,
     "metadata": {},
     "output_type": "execute_result"
    }
   ],
   "source": [
    "known_physproc = physproc[physproc['specialty'] != 'Unknown']\n",
    "known_physproc.head()"
   ]
  },
  {
   "cell_type": "code",
   "execution_count": 13,
   "metadata": {
    "collapsed": false
   },
   "outputs": [
    {
     "name": "stderr",
     "output_type": "stream",
     "text": [
      "C:\\Users\\khiabaniy\\AppData\\Local\\Continuum\\Anaconda3\\lib\\site-packages\\ipykernel\\__main__.py:1: SettingWithCopyWarning: \n",
      "A value is trying to be set on a copy of a slice from a DataFrame.\n",
      "Try using .loc[row_indexer,col_indexer] = value instead\n",
      "\n",
      "See the caveats in the documentation: http://pandas.pydata.org/pandas-docs/stable/indexing.html#indexing-view-versus-copy\n",
      "  if __name__ == '__main__':\n"
     ]
    }
   ],
   "source": [
    "known_physproc['Cardiology'] = known_physproc['specialty'].apply(lambda s : 1 if s == 'Cardiology' else 0)"
   ]
  },
  {
   "cell_type": "code",
   "execution_count": 14,
   "metadata": {
    "collapsed": false
   },
   "outputs": [
    {
     "data": {
      "text/html": [
       "<div>\n",
       "<table border=\"1\" class=\"dataframe\">\n",
       "  <thead>\n",
       "    <tr style=\"text-align: right;\">\n",
       "      <th></th>\n",
       "      <th>id</th>\n",
       "      <th>specialty</th>\n",
       "      <th>physician_id</th>\n",
       "      <th>procedure_code</th>\n",
       "      <th>procedure</th>\n",
       "      <th>number_of_patients</th>\n",
       "      <th>Cardiology</th>\n",
       "    </tr>\n",
       "  </thead>\n",
       "  <tbody>\n",
       "    <tr>\n",
       "      <th>0</th>\n",
       "      <td>0</td>\n",
       "      <td>General Surgery</td>\n",
       "      <td>0</td>\n",
       "      <td>99202</td>\n",
       "      <td>new_patient_office_or_other_outpatient_visit,_...</td>\n",
       "      <td>14</td>\n",
       "      <td>0</td>\n",
       "    </tr>\n",
       "    <tr>\n",
       "      <th>1</th>\n",
       "      <td>0</td>\n",
       "      <td>General Surgery</td>\n",
       "      <td>0</td>\n",
       "      <td>99203</td>\n",
       "      <td>new_patient_office_or_other_outpatient_visit,_...</td>\n",
       "      <td>15</td>\n",
       "      <td>0</td>\n",
       "    </tr>\n",
       "    <tr>\n",
       "      <th>2</th>\n",
       "      <td>0</td>\n",
       "      <td>General Surgery</td>\n",
       "      <td>0</td>\n",
       "      <td>99205</td>\n",
       "      <td>new_patient_office_or_other_outpatient_visit,_...</td>\n",
       "      <td>12</td>\n",
       "      <td>0</td>\n",
       "    </tr>\n",
       "    <tr>\n",
       "      <th>3</th>\n",
       "      <td>0</td>\n",
       "      <td>General Surgery</td>\n",
       "      <td>0</td>\n",
       "      <td>99212</td>\n",
       "      <td>established_patient_office_or_other_outpatient...</td>\n",
       "      <td>27</td>\n",
       "      <td>0</td>\n",
       "    </tr>\n",
       "    <tr>\n",
       "      <th>4</th>\n",
       "      <td>0</td>\n",
       "      <td>General Surgery</td>\n",
       "      <td>0</td>\n",
       "      <td>99213</td>\n",
       "      <td>established_patient_office_or_other_outpatient...</td>\n",
       "      <td>16</td>\n",
       "      <td>0</td>\n",
       "    </tr>\n",
       "  </tbody>\n",
       "</table>\n",
       "</div>"
      ],
      "text/plain": [
       "   id        specialty  physician_id procedure_code  \\\n",
       "0   0  General Surgery             0          99202   \n",
       "1   0  General Surgery             0          99203   \n",
       "2   0  General Surgery             0          99205   \n",
       "3   0  General Surgery             0          99212   \n",
       "4   0  General Surgery             0          99213   \n",
       "\n",
       "                                           procedure  number_of_patients  \\\n",
       "0  new_patient_office_or_other_outpatient_visit,_...                  14   \n",
       "1  new_patient_office_or_other_outpatient_visit,_...                  15   \n",
       "2  new_patient_office_or_other_outpatient_visit,_...                  12   \n",
       "3  established_patient_office_or_other_outpatient...                  27   \n",
       "4  established_patient_office_or_other_outpatient...                  16   \n",
       "\n",
       "   Cardiology  \n",
       "0           0  \n",
       "1           0  \n",
       "2           0  \n",
       "3           0  \n",
       "4           0  "
      ]
     },
     "execution_count": 14,
     "metadata": {},
     "output_type": "execute_result"
    }
   ],
   "source": [
    "known_physproc.head()"
   ]
  },
  {
   "cell_type": "code",
   "execution_count": 15,
   "metadata": {
    "collapsed": false
   },
   "outputs": [
    {
     "data": {
      "text/html": [
       "<div>\n",
       "<table border=\"1\" class=\"dataframe\">\n",
       "  <thead>\n",
       "    <tr style=\"text-align: right;\">\n",
       "      <th></th>\n",
       "      <th>id</th>\n",
       "      <th>specialty</th>\n",
       "      <th>physician_id</th>\n",
       "      <th>procedure_code</th>\n",
       "      <th>procedure</th>\n",
       "      <th>number_of_patients</th>\n",
       "    </tr>\n",
       "  </thead>\n",
       "  <tbody>\n",
       "    <tr>\n",
       "      <th>7</th>\n",
       "      <td>1</td>\n",
       "      <td>Unknown</td>\n",
       "      <td>1</td>\n",
       "      <td>76942</td>\n",
       "      <td>ultrasonic_guidance_imaging_supervision_and_in...</td>\n",
       "      <td>14</td>\n",
       "    </tr>\n",
       "    <tr>\n",
       "      <th>164</th>\n",
       "      <td>11</td>\n",
       "      <td>Unknown</td>\n",
       "      <td>11</td>\n",
       "      <td>00142</td>\n",
       "      <td>anesthesia_for_lens_surgery</td>\n",
       "      <td>29</td>\n",
       "    </tr>\n",
       "    <tr>\n",
       "      <th>165</th>\n",
       "      <td>11</td>\n",
       "      <td>Unknown</td>\n",
       "      <td>11</td>\n",
       "      <td>00400</td>\n",
       "      <td>anesthesia_for_procedure_on_skin_of_arms,_legs...</td>\n",
       "      <td>18</td>\n",
       "    </tr>\n",
       "    <tr>\n",
       "      <th>166</th>\n",
       "      <td>11</td>\n",
       "      <td>Unknown</td>\n",
       "      <td>11</td>\n",
       "      <td>00520</td>\n",
       "      <td>anesthesia_for_closed_procedure_in_chest</td>\n",
       "      <td>16</td>\n",
       "    </tr>\n",
       "    <tr>\n",
       "      <th>167</th>\n",
       "      <td>11</td>\n",
       "      <td>Unknown</td>\n",
       "      <td>11</td>\n",
       "      <td>00740</td>\n",
       "      <td>anesthesia_for_procedure_on_gastrointestinal_t...</td>\n",
       "      <td>14</td>\n",
       "    </tr>\n",
       "  </tbody>\n",
       "</table>\n",
       "</div>"
      ],
      "text/plain": [
       "     id specialty  physician_id procedure_code  \\\n",
       "7     1   Unknown             1          76942   \n",
       "164  11   Unknown            11          00142   \n",
       "165  11   Unknown            11          00400   \n",
       "166  11   Unknown            11          00520   \n",
       "167  11   Unknown            11          00740   \n",
       "\n",
       "                                             procedure  number_of_patients  \n",
       "7    ultrasonic_guidance_imaging_supervision_and_in...                  14  \n",
       "164                        anesthesia_for_lens_surgery                  29  \n",
       "165  anesthesia_for_procedure_on_skin_of_arms,_legs...                  18  \n",
       "166           anesthesia_for_closed_procedure_in_chest                  16  \n",
       "167  anesthesia_for_procedure_on_gastrointestinal_t...                  14  "
      ]
     },
     "execution_count": 15,
     "metadata": {},
     "output_type": "execute_result"
    }
   ],
   "source": [
    "unknown_physproc = physproc[physproc['specialty'] == 'Unknown']\n",
    "unknown_physproc.head()"
   ]
  },
  {
   "cell_type": "code",
   "execution_count": 17,
   "metadata": {
    "collapsed": false
   },
   "outputs": [
    {
     "name": "stdout",
     "output_type": "stream",
     "text": [
      "<class 'pandas.core.frame.DataFrame'>\n",
      "Int64Index: 181063 entries, 7 to 587773\n",
      "Data columns (total 6 columns):\n",
      "id                    181063 non-null int64\n",
      "specialty             181063 non-null object\n",
      "physician_id          181063 non-null int64\n",
      "procedure_code        181063 non-null object\n",
      "procedure             181063 non-null object\n",
      "number_of_patients    181063 non-null int64\n",
      "dtypes: int64(3), object(3)\n",
      "memory usage: 9.7+ MB\n"
     ]
    }
   ],
   "source": [
    "unknown_physproc.info()"
   ]
  },
  {
   "cell_type": "code",
   "execution_count": 18,
   "metadata": {
    "collapsed": false
   },
   "outputs": [
    {
     "data": {
      "text/plain": [
       "<seaborn.axisgrid.FacetGrid at 0x166e2fb1668>"
      ]
     },
     "execution_count": 18,
     "metadata": {},
     "output_type": "execute_result"
    },
    {
     "data": {
      "image/png": "[encoded data removed]",
      "text/plain": [
       "<matplotlib.figure.Figure at 0x166e2fb1710>"
      ]
     },
     "metadata": {},
     "output_type": "display_data"
    }
   ],
   "source": [
    "g = sns.FacetGrid(known_physproc,col='Cardiology',size=4, aspect=1,xlim=(0,800))\n",
    "g.map(plt.hist,'number_of_patients',bins=500,normed=True)"
   ]
  },
  {
   "cell_type": "code",
   "execution_count": 19,
   "metadata": {
    "collapsed": false
   },
   "outputs": [
    {
     "data": {
      "text/plain": [
       "Cardiology       \n",
       "0           count    216616.000000\n",
       "            mean         72.799115\n",
       "            std         129.687423\n",
       "            min          11.000000\n",
       "            25%          17.000000\n",
       "            50%          32.000000\n",
       "            75%          75.000000\n",
       "            max        8372.000000\n",
       "1           count    190095.000000\n",
       "            mean        101.150220\n",
       "            std         179.404042\n",
       "            min          11.000000\n",
       "            25%          20.000000\n",
       "            50%          41.000000\n",
       "            75%         106.000000\n",
       "            max        6757.000000\n",
       "Name: number_of_patients, dtype: float64"
      ]
     },
     "execution_count": 19,
     "metadata": {},
     "output_type": "execute_result"
    }
   ],
   "source": [
    "known_physproc.groupby(['Cardiology'])['number_of_patients'].describe()"
   ]
  },
  {
   "cell_type": "code",
   "execution_count": 20,
   "metadata": {
    "collapsed": true
   },
   "outputs": [],
   "source": [
    "from nltk.corpus import stopwords"
   ]
  },
  {
   "cell_type": "code",
   "execution_count": 21,
   "metadata": {
    "collapsed": true
   },
   "outputs": [],
   "source": [
    "def text_process(mess):\n",
    "    ListOfWords = mess.split('_')\n",
    "    return [word for word in ListOfWords if word.lower() not in stopwords.words('english')]"
   ]
  },
  {
   "cell_type": "code",
   "execution_count": 22,
   "metadata": {
    "collapsed": true
   },
   "outputs": [],
   "source": [
    "from sklearn.feature_extraction.text import CountVectorizer"
   ]
  },
  {
   "cell_type": "code",
   "execution_count": 27,
   "metadata": {
    "collapsed": true
   },
   "outputs": [],
   "source": [
    "from sklearn.feature_extraction.text import TfidfTransformer"
   ]
  },
  {
   "cell_type": "code",
   "execution_count": 24,
   "metadata": {
    "collapsed": true
   },
   "outputs": [],
   "source": [
    "from sklearn.naive_bayes import MultinomialNB"
   ]
  },
  {
   "cell_type": "code",
   "execution_count": 28,
   "metadata": {
    "collapsed": true
   },
   "outputs": [],
   "source": [
    "from sklearn.pipeline import Pipeline\n",
    "\n",
    "pipeline = Pipeline([\n",
    "    ('bow', CountVectorizer(analyzer=text_process)),  # strings to token integer counts\n",
    "    ('tfidf', TfidfTransformer()),  # integer counts to weighted TF-IDF scores\n",
    "    ('classifier', MultinomialNB()),  # train on TF-IDF vectors w/ Naive Bayes classifier\n",
    "])"
   ]
  },
  {
   "cell_type": "code",
   "execution_count": 30,
   "metadata": {
    "collapsed": false
   },
   "outputs": [],
   "source": [
    "from sklearn.model_selection import train_test_split\n",
    "\n",
    "procedure_train, procedure_test, label_train, label_test = \\\n",
    "train_test_split(known_physproc['procedure'], known_physproc['Cardiology'], test_size=0.3)"
   ]
  },
  {
   "cell_type": "code",
   "execution_count": 31,
   "metadata": {
    "collapsed": false
   },
   "outputs": [
    {
     "data": {
      "text/plain": [
       "Pipeline(steps=[('bow', CountVectorizer(analyzer=<function text_process at 0x00000166ED207BF8>,\n",
       "        binary=False, decode_error='strict', dtype=<class 'numpy.int64'>,\n",
       "        encoding='utf-8', input='content', lowercase=True, max_df=1.0,\n",
       "        max_features=None, min_df=1, ngram_range=(1, 1), preprocesso...f=False, use_idf=True)), ('classifier', MultinomialNB(alpha=1.0, class_prior=None, fit_prior=True))])"
      ]
     },
     "execution_count": 31,
     "metadata": {},
     "output_type": "execute_result"
    }
   ],
   "source": [
    "pipeline.fit(procedure_train,label_train)"
   ]
  },
  {
   "cell_type": "code",
   "execution_count": 32,
   "metadata": {
    "collapsed": false
   },
   "outputs": [
    {
     "name": "stdout",
     "output_type": "stream",
     "text": [
      "[0 1 0 ..., 0 0 0]\n"
     ]
    }
   ],
   "source": [
    "all_predictions = pipeline.predict(procedure_test)\n",
    "print(all_predictions)"
   ]
  },
  {
   "cell_type": "code",
   "execution_count": 33,
   "metadata": {
    "collapsed": false
   },
   "outputs": [
    {
     "name": "stdout",
     "output_type": "stream",
     "text": [
      "             precision    recall  f1-score   support\n",
      "\n",
      "          0       0.78      0.86      0.82     64802\n",
      "          1       0.83      0.73      0.77     57212\n",
      "\n",
      "avg / total       0.80      0.80      0.80    122014\n",
      "\n"
     ]
    }
   ],
   "source": [
    "from sklearn.metrics import classification_report\n",
    "print (classification_report(label_test, all_predictions))"
   ]
  },
  {
   "cell_type": "code",
   "execution_count": 34,
   "metadata": {
    "collapsed": true
   },
   "outputs": [],
   "source": [
    "application = unknown_physproc['procedure']\n",
    "unknown_predictions = pipeline.predict(application)"
   ]
  },
  {
   "cell_type": "code",
   "execution_count": 48,
   "metadata": {
    "collapsed": false
   },
   "outputs": [],
   "source": [
    "total = len(unknown_predictions)\n",
    "new_cardios = unknown_predictions.sum()"
   ]
  },
  {
   "cell_type": "code",
   "execution_count": 54,
   "metadata": {
    "collapsed": false
   },
   "outputs": [
    {
     "name": "stdout",
     "output_type": "stream",
     "text": [
      "Number of carodiologists found is 74782 out of 181063\n"
     ]
    }
   ],
   "source": [
    "print(\"Number of carodiologists found is {} out of {}\".format(new_cardios,total))"
   ]
  },
  {
   "cell_type": "code",
   "execution_count": 63,
   "metadata": {
    "collapsed": false
   },
   "outputs": [
    {
     "name": "stderr",
     "output_type": "stream",
     "text": [
      "C:\\Users\\khiabaniy\\AppData\\Local\\Continuum\\Anaconda3\\lib\\site-packages\\ipykernel\\__main__.py:1: SettingWithCopyWarning: \n",
      "A value is trying to be set on a copy of a slice from a DataFrame.\n",
      "Try using .loc[row_indexer,col_indexer] = value instead\n",
      "\n",
      "See the caveats in the documentation: http://pandas.pydata.org/pandas-docs/stable/indexing.html#indexing-view-versus-copy\n",
      "  if __name__ == '__main__':\n"
     ]
    }
   ],
   "source": [
    "unknown_physproc['specialty'] = ['cardiology' if s == 1 else 'others' for s in unknown_predictions]"
   ]
  },
  {
   "cell_type": "code",
   "execution_count": 65,
   "metadata": {
    "collapsed": false
   },
   "outputs": [
    {
     "data": {
      "text/html": [
       "<div>\n",
       "<table border=\"1\" class=\"dataframe\">\n",
       "  <thead>\n",
       "    <tr style=\"text-align: right;\">\n",
       "      <th></th>\n",
       "      <th>id</th>\n",
       "      <th>specialty</th>\n",
       "      <th>physician_id</th>\n",
       "      <th>procedure_code</th>\n",
       "      <th>procedure</th>\n",
       "      <th>number_of_patients</th>\n",
       "    </tr>\n",
       "  </thead>\n",
       "  <tbody>\n",
       "    <tr>\n",
       "      <th>7</th>\n",
       "      <td>1</td>\n",
       "      <td>others</td>\n",
       "      <td>1</td>\n",
       "      <td>76942</td>\n",
       "      <td>ultrasonic_guidance_imaging_supervision_and_in...</td>\n",
       "      <td>14</td>\n",
       "    </tr>\n",
       "    <tr>\n",
       "      <th>164</th>\n",
       "      <td>11</td>\n",
       "      <td>others</td>\n",
       "      <td>11</td>\n",
       "      <td>00142</td>\n",
       "      <td>anesthesia_for_lens_surgery</td>\n",
       "      <td>29</td>\n",
       "    </tr>\n",
       "    <tr>\n",
       "      <th>165</th>\n",
       "      <td>11</td>\n",
       "      <td>others</td>\n",
       "      <td>11</td>\n",
       "      <td>00400</td>\n",
       "      <td>anesthesia_for_procedure_on_skin_of_arms,_legs...</td>\n",
       "      <td>18</td>\n",
       "    </tr>\n",
       "    <tr>\n",
       "      <th>166</th>\n",
       "      <td>11</td>\n",
       "      <td>others</td>\n",
       "      <td>11</td>\n",
       "      <td>00520</td>\n",
       "      <td>anesthesia_for_closed_procedure_in_chest</td>\n",
       "      <td>16</td>\n",
       "    </tr>\n",
       "    <tr>\n",
       "      <th>167</th>\n",
       "      <td>11</td>\n",
       "      <td>others</td>\n",
       "      <td>11</td>\n",
       "      <td>00740</td>\n",
       "      <td>anesthesia_for_procedure_on_gastrointestinal_t...</td>\n",
       "      <td>14</td>\n",
       "    </tr>\n",
       "    <tr>\n",
       "      <th>168</th>\n",
       "      <td>11</td>\n",
       "      <td>others</td>\n",
       "      <td>11</td>\n",
       "      <td>00810</td>\n",
       "      <td>anesthesia_for_procedure_on_lower_intestine_us...</td>\n",
       "      <td>39</td>\n",
       "    </tr>\n",
       "    <tr>\n",
       "      <th>169</th>\n",
       "      <td>11</td>\n",
       "      <td>others</td>\n",
       "      <td>11</td>\n",
       "      <td>00910</td>\n",
       "      <td>anesthesia_for_procedure_on_urinary_system_inc...</td>\n",
       "      <td>33</td>\n",
       "    </tr>\n",
       "    <tr>\n",
       "      <th>170</th>\n",
       "      <td>11</td>\n",
       "      <td>others</td>\n",
       "      <td>11</td>\n",
       "      <td>01214</td>\n",
       "      <td>anesthesia_for_open_total_hip_joint_replacement</td>\n",
       "      <td>11</td>\n",
       "    </tr>\n",
       "    <tr>\n",
       "      <th>171</th>\n",
       "      <td>11</td>\n",
       "      <td>others</td>\n",
       "      <td>11</td>\n",
       "      <td>01402</td>\n",
       "      <td>anesthesia_for_open_or_endoscopic_total_knee_j...</td>\n",
       "      <td>16</td>\n",
       "    </tr>\n",
       "    <tr>\n",
       "      <th>172</th>\n",
       "      <td>11</td>\n",
       "      <td>others</td>\n",
       "      <td>11</td>\n",
       "      <td>01630</td>\n",
       "      <td>anesthesia_for_open_or_endoscopic_procedure_at...</td>\n",
       "      <td>16</td>\n",
       "    </tr>\n",
       "    <tr>\n",
       "      <th>173</th>\n",
       "      <td>11</td>\n",
       "      <td>others</td>\n",
       "      <td>11</td>\n",
       "      <td>64415</td>\n",
       "      <td>injection_of_anesthetic_agent,_brachial_(arm)_...</td>\n",
       "      <td>21</td>\n",
       "    </tr>\n",
       "    <tr>\n",
       "      <th>174</th>\n",
       "      <td>11</td>\n",
       "      <td>others</td>\n",
       "      <td>11</td>\n",
       "      <td>64445</td>\n",
       "      <td>injection_of_anesthetic_agent,_sciatic_nerve</td>\n",
       "      <td>11</td>\n",
       "    </tr>\n",
       "    <tr>\n",
       "      <th>175</th>\n",
       "      <td>11</td>\n",
       "      <td>others</td>\n",
       "      <td>11</td>\n",
       "      <td>64447</td>\n",
       "      <td>injection_of_anesthetic_agent,_thigh_nerve</td>\n",
       "      <td>35</td>\n",
       "    </tr>\n",
       "    <tr>\n",
       "      <th>176</th>\n",
       "      <td>11</td>\n",
       "      <td>others</td>\n",
       "      <td>11</td>\n",
       "      <td>64450</td>\n",
       "      <td>injection_of_anesthetic_agent,_other_periphera...</td>\n",
       "      <td>20</td>\n",
       "    </tr>\n",
       "    <tr>\n",
       "      <th>177</th>\n",
       "      <td>11</td>\n",
       "      <td>others</td>\n",
       "      <td>11</td>\n",
       "      <td>76942</td>\n",
       "      <td>ultrasonic_guidance_imaging_supervision_and_in...</td>\n",
       "      <td>70</td>\n",
       "    </tr>\n",
       "    <tr>\n",
       "      <th>233</th>\n",
       "      <td>13</td>\n",
       "      <td>others</td>\n",
       "      <td>13</td>\n",
       "      <td>92004</td>\n",
       "      <td>eye_and_medical_examination_for_diagnosis_and_...</td>\n",
       "      <td>12</td>\n",
       "    </tr>\n",
       "    <tr>\n",
       "      <th>234</th>\n",
       "      <td>13</td>\n",
       "      <td>others</td>\n",
       "      <td>13</td>\n",
       "      <td>92012</td>\n",
       "      <td>eye_and_medical_examination_for_diagnosis_and_...</td>\n",
       "      <td>40</td>\n",
       "    </tr>\n",
       "    <tr>\n",
       "      <th>235</th>\n",
       "      <td>13</td>\n",
       "      <td>others</td>\n",
       "      <td>13</td>\n",
       "      <td>92133</td>\n",
       "      <td>diagnostic_imaging_of_optic_nerve_of_eye</td>\n",
       "      <td>12</td>\n",
       "    </tr>\n",
       "    <tr>\n",
       "      <th>240</th>\n",
       "      <td>16</td>\n",
       "      <td>others</td>\n",
       "      <td>16</td>\n",
       "      <td>66821</td>\n",
       "      <td>removal_of_recurring_cataract_in_lens_capsule_...</td>\n",
       "      <td>36</td>\n",
       "    </tr>\n",
       "    <tr>\n",
       "      <th>241</th>\n",
       "      <td>16</td>\n",
       "      <td>others</td>\n",
       "      <td>16</td>\n",
       "      <td>66984</td>\n",
       "      <td>removal_of_cataract_with_insertion_of_lens</td>\n",
       "      <td>66</td>\n",
       "    </tr>\n",
       "    <tr>\n",
       "      <th>242</th>\n",
       "      <td>16</td>\n",
       "      <td>others</td>\n",
       "      <td>16</td>\n",
       "      <td>76514</td>\n",
       "      <td>ultrasound_of_corneal_structure_and_measurement</td>\n",
       "      <td>22</td>\n",
       "    </tr>\n",
       "    <tr>\n",
       "      <th>243</th>\n",
       "      <td>16</td>\n",
       "      <td>others</td>\n",
       "      <td>16</td>\n",
       "      <td>83861</td>\n",
       "      <td>microfluid_analysis_of_tears</td>\n",
       "      <td>33</td>\n",
       "    </tr>\n",
       "    <tr>\n",
       "      <th>244</th>\n",
       "      <td>16</td>\n",
       "      <td>others</td>\n",
       "      <td>16</td>\n",
       "      <td>92002</td>\n",
       "      <td>eye_and_medical_examination_for_diagnosis_and_...</td>\n",
       "      <td>11</td>\n",
       "    </tr>\n",
       "    <tr>\n",
       "      <th>245</th>\n",
       "      <td>16</td>\n",
       "      <td>others</td>\n",
       "      <td>16</td>\n",
       "      <td>92004</td>\n",
       "      <td>eye_and_medical_examination_for_diagnosis_and_...</td>\n",
       "      <td>100</td>\n",
       "    </tr>\n",
       "    <tr>\n",
       "      <th>246</th>\n",
       "      <td>16</td>\n",
       "      <td>others</td>\n",
       "      <td>16</td>\n",
       "      <td>92012</td>\n",
       "      <td>eye_and_medical_examination_for_diagnosis_and_...</td>\n",
       "      <td>238</td>\n",
       "    </tr>\n",
       "    <tr>\n",
       "      <th>247</th>\n",
       "      <td>16</td>\n",
       "      <td>others</td>\n",
       "      <td>16</td>\n",
       "      <td>92014</td>\n",
       "      <td>eye_and_medical_examination_for_diagnosis_and_...</td>\n",
       "      <td>577</td>\n",
       "    </tr>\n",
       "    <tr>\n",
       "      <th>248</th>\n",
       "      <td>16</td>\n",
       "      <td>others</td>\n",
       "      <td>16</td>\n",
       "      <td>92060</td>\n",
       "      <td>measurement_of_eye_muscles_to_detect_deviation...</td>\n",
       "      <td>13</td>\n",
       "    </tr>\n",
       "    <tr>\n",
       "      <th>249</th>\n",
       "      <td>16</td>\n",
       "      <td>others</td>\n",
       "      <td>16</td>\n",
       "      <td>92083</td>\n",
       "      <td>measurement_of_field_of_vision_during_daylight...</td>\n",
       "      <td>121</td>\n",
       "    </tr>\n",
       "    <tr>\n",
       "      <th>250</th>\n",
       "      <td>16</td>\n",
       "      <td>others</td>\n",
       "      <td>16</td>\n",
       "      <td>92133</td>\n",
       "      <td>diagnostic_imaging_of_optic_nerve_of_eye</td>\n",
       "      <td>141</td>\n",
       "    </tr>\n",
       "    <tr>\n",
       "      <th>251</th>\n",
       "      <td>16</td>\n",
       "      <td>others</td>\n",
       "      <td>16</td>\n",
       "      <td>92134</td>\n",
       "      <td>diagnostic_imaging_of_retina</td>\n",
       "      <td>86</td>\n",
       "    </tr>\n",
       "    <tr>\n",
       "      <th>252</th>\n",
       "      <td>16</td>\n",
       "      <td>others</td>\n",
       "      <td>16</td>\n",
       "      <td>92136</td>\n",
       "      <td>measurement_of_corneal_curvature_and_depth_of_eye</td>\n",
       "      <td>89</td>\n",
       "    </tr>\n",
       "    <tr>\n",
       "      <th>253</th>\n",
       "      <td>16</td>\n",
       "      <td>others</td>\n",
       "      <td>16</td>\n",
       "      <td>92225</td>\n",
       "      <td>examination_of_eye_by_ophthalmoscope_with_reti...</td>\n",
       "      <td>24</td>\n",
       "    </tr>\n",
       "    <tr>\n",
       "      <th>254</th>\n",
       "      <td>16</td>\n",
       "      <td>others</td>\n",
       "      <td>16</td>\n",
       "      <td>92250</td>\n",
       "      <td>photography_of_the_retina</td>\n",
       "      <td>183</td>\n",
       "    </tr>\n",
       "    <tr>\n",
       "      <th>255</th>\n",
       "      <td>16</td>\n",
       "      <td>others</td>\n",
       "      <td>16</td>\n",
       "      <td>99204</td>\n",
       "      <td>new_patient_office_or_other_outpatient_visit,_...</td>\n",
       "      <td>46</td>\n",
       "    </tr>\n",
       "    <tr>\n",
       "      <th>256</th>\n",
       "      <td>16</td>\n",
       "      <td>others</td>\n",
       "      <td>16</td>\n",
       "      <td>99212</td>\n",
       "      <td>established_patient_office_or_other_outpatient...</td>\n",
       "      <td>34</td>\n",
       "    </tr>\n",
       "    <tr>\n",
       "      <th>257</th>\n",
       "      <td>16</td>\n",
       "      <td>others</td>\n",
       "      <td>16</td>\n",
       "      <td>99213</td>\n",
       "      <td>established_patient_office_or_other_outpatient...</td>\n",
       "      <td>113</td>\n",
       "    </tr>\n",
       "    <tr>\n",
       "      <th>258</th>\n",
       "      <td>16</td>\n",
       "      <td>others</td>\n",
       "      <td>16</td>\n",
       "      <td>99214</td>\n",
       "      <td>established_patient_office_or_other_outpatient...</td>\n",
       "      <td>12</td>\n",
       "    </tr>\n",
       "    <tr>\n",
       "      <th>259</th>\n",
       "      <td>17</td>\n",
       "      <td>cardiology</td>\n",
       "      <td>17</td>\n",
       "      <td>78452</td>\n",
       "      <td>nuclear_medicine_study_of_vessels_of_heart_usi...</td>\n",
       "      <td>58</td>\n",
       "    </tr>\n",
       "    <tr>\n",
       "      <th>260</th>\n",
       "      <td>17</td>\n",
       "      <td>cardiology</td>\n",
       "      <td>17</td>\n",
       "      <td>93000</td>\n",
       "      <td>routine_ekg_using_at_least_12_leads_including_...</td>\n",
       "      <td>106</td>\n",
       "    </tr>\n",
       "    <tr>\n",
       "      <th>261</th>\n",
       "      <td>17</td>\n",
       "      <td>cardiology</td>\n",
       "      <td>17</td>\n",
       "      <td>93010</td>\n",
       "      <td>routine_electrocardiogram_(ekg)_using_at_least...</td>\n",
       "      <td>353</td>\n",
       "    </tr>\n",
       "    <tr>\n",
       "      <th>262</th>\n",
       "      <td>17</td>\n",
       "      <td>cardiology</td>\n",
       "      <td>17</td>\n",
       "      <td>93010</td>\n",
       "      <td>routine_electrocardiogram_(ekg)_using_at_least...</td>\n",
       "      <td>29</td>\n",
       "    </tr>\n",
       "    <tr>\n",
       "      <th>263</th>\n",
       "      <td>17</td>\n",
       "      <td>cardiology</td>\n",
       "      <td>17</td>\n",
       "      <td>93016</td>\n",
       "      <td>exercise_or_drug-induced_heart_and_blood_vesse...</td>\n",
       "      <td>82</td>\n",
       "    </tr>\n",
       "    <tr>\n",
       "      <th>264</th>\n",
       "      <td>17</td>\n",
       "      <td>cardiology</td>\n",
       "      <td>17</td>\n",
       "      <td>93018</td>\n",
       "      <td>exercise_or_drug-induced_heart_and_blood_vesse...</td>\n",
       "      <td>83</td>\n",
       "    </tr>\n",
       "    <tr>\n",
       "      <th>265</th>\n",
       "      <td>17</td>\n",
       "      <td>cardiology</td>\n",
       "      <td>17</td>\n",
       "      <td>93227</td>\n",
       "      <td>heart_rhythm_tracing,_analysis,_and_interpreta...</td>\n",
       "      <td>18</td>\n",
       "    </tr>\n",
       "    <tr>\n",
       "      <th>266</th>\n",
       "      <td>17</td>\n",
       "      <td>cardiology</td>\n",
       "      <td>17</td>\n",
       "      <td>93306</td>\n",
       "      <td>ultrasound_examination_of_heart_including_colo...</td>\n",
       "      <td>191</td>\n",
       "    </tr>\n",
       "    <tr>\n",
       "      <th>267</th>\n",
       "      <td>17</td>\n",
       "      <td>cardiology</td>\n",
       "      <td>17</td>\n",
       "      <td>93350</td>\n",
       "      <td>ultrasound_examination_of_the_heart_performed_...</td>\n",
       "      <td>24</td>\n",
       "    </tr>\n",
       "    <tr>\n",
       "      <th>268</th>\n",
       "      <td>17</td>\n",
       "      <td>cardiology</td>\n",
       "      <td>17</td>\n",
       "      <td>93458</td>\n",
       "      <td>insertion_of_catheter_in_left_heart_for_imagin...</td>\n",
       "      <td>35</td>\n",
       "    </tr>\n",
       "    <tr>\n",
       "      <th>269</th>\n",
       "      <td>17</td>\n",
       "      <td>cardiology</td>\n",
       "      <td>17</td>\n",
       "      <td>93880</td>\n",
       "      <td>ultrasound_scanning_of_blood_flow_(outside_the...</td>\n",
       "      <td>22</td>\n",
       "    </tr>\n",
       "    <tr>\n",
       "      <th>270</th>\n",
       "      <td>17</td>\n",
       "      <td>cardiology</td>\n",
       "      <td>17</td>\n",
       "      <td>93923</td>\n",
       "      <td>ultrasound_study_of_arteries_of_both_arms_and_...</td>\n",
       "      <td>23</td>\n",
       "    </tr>\n",
       "    <tr>\n",
       "      <th>271</th>\n",
       "      <td>17</td>\n",
       "      <td>others</td>\n",
       "      <td>17</td>\n",
       "      <td>99204</td>\n",
       "      <td>new_patient_office_or_other_outpatient_visit,_...</td>\n",
       "      <td>56</td>\n",
       "    </tr>\n",
       "  </tbody>\n",
       "</table>\n",
       "</div>"
      ],
      "text/plain": [
       "     id   specialty  physician_id procedure_code  \\\n",
       "7     1      others             1          76942   \n",
       "164  11      others            11          00142   \n",
       "165  11      others            11          00400   \n",
       "166  11      others            11          00520   \n",
       "167  11      others            11          00740   \n",
       "168  11      others            11          00810   \n",
       "169  11      others            11          00910   \n",
       "170  11      others            11          01214   \n",
       "171  11      others            11          01402   \n",
       "172  11      others            11          01630   \n",
       "173  11      others            11          64415   \n",
       "174  11      others            11          64445   \n",
       "175  11      others            11          64447   \n",
       "176  11      others            11          64450   \n",
       "177  11      others            11          76942   \n",
       "233  13      others            13          92004   \n",
       "234  13      others            13          92012   \n",
       "235  13      others            13          92133   \n",
       "240  16      others            16          66821   \n",
       "241  16      others            16          66984   \n",
       "242  16      others            16          76514   \n",
       "243  16      others            16          83861   \n",
       "244  16      others            16          92002   \n",
       "245  16      others            16          92004   \n",
       "246  16      others            16          92012   \n",
       "247  16      others            16          92014   \n",
       "248  16      others            16          92060   \n",
       "249  16      others            16          92083   \n",
       "250  16      others            16          92133   \n",
       "251  16      others            16          92134   \n",
       "252  16      others            16          92136   \n",
       "253  16      others            16          92225   \n",
       "254  16      others            16          92250   \n",
       "255  16      others            16          99204   \n",
       "256  16      others            16          99212   \n",
       "257  16      others            16          99213   \n",
       "258  16      others            16          99214   \n",
       "259  17  cardiology            17          78452   \n",
       "260  17  cardiology            17          93000   \n",
       "261  17  cardiology            17          93010   \n",
       "262  17  cardiology            17          93010   \n",
       "263  17  cardiology            17          93016   \n",
       "264  17  cardiology            17          93018   \n",
       "265  17  cardiology            17          93227   \n",
       "266  17  cardiology            17          93306   \n",
       "267  17  cardiology            17          93350   \n",
       "268  17  cardiology            17          93458   \n",
       "269  17  cardiology            17          93880   \n",
       "270  17  cardiology            17          93923   \n",
       "271  17      others            17          99204   \n",
       "\n",
       "                                             procedure  number_of_patients  \n",
       "7    ultrasonic_guidance_imaging_supervision_and_in...                  14  \n",
       "164                        anesthesia_for_lens_surgery                  29  \n",
       "165  anesthesia_for_procedure_on_skin_of_arms,_legs...                  18  \n",
       "166           anesthesia_for_closed_procedure_in_chest                  16  \n",
       "167  anesthesia_for_procedure_on_gastrointestinal_t...                  14  \n",
       "168  anesthesia_for_procedure_on_lower_intestine_us...                  39  \n",
       "169  anesthesia_for_procedure_on_urinary_system_inc...                  33  \n",
       "170    anesthesia_for_open_total_hip_joint_replacement                  11  \n",
       "171  anesthesia_for_open_or_endoscopic_total_knee_j...                  16  \n",
       "172  anesthesia_for_open_or_endoscopic_procedure_at...                  16  \n",
       "173  injection_of_anesthetic_agent,_brachial_(arm)_...                  21  \n",
       "174       injection_of_anesthetic_agent,_sciatic_nerve                  11  \n",
       "175         injection_of_anesthetic_agent,_thigh_nerve                  35  \n",
       "176  injection_of_anesthetic_agent,_other_periphera...                  20  \n",
       "177  ultrasonic_guidance_imaging_supervision_and_in...                  70  \n",
       "233  eye_and_medical_examination_for_diagnosis_and_...                  12  \n",
       "234  eye_and_medical_examination_for_diagnosis_and_...                  40  \n",
       "235           diagnostic_imaging_of_optic_nerve_of_eye                  12  \n",
       "240  removal_of_recurring_cataract_in_lens_capsule_...                  36  \n",
       "241         removal_of_cataract_with_insertion_of_lens                  66  \n",
       "242    ultrasound_of_corneal_structure_and_measurement                  22  \n",
       "243                       microfluid_analysis_of_tears                  33  \n",
       "244  eye_and_medical_examination_for_diagnosis_and_...                  11  \n",
       "245  eye_and_medical_examination_for_diagnosis_and_...                 100  \n",
       "246  eye_and_medical_examination_for_diagnosis_and_...                 238  \n",
       "247  eye_and_medical_examination_for_diagnosis_and_...                 577  \n",
       "248  measurement_of_eye_muscles_to_detect_deviation...                  13  \n",
       "249  measurement_of_field_of_vision_during_daylight...                 121  \n",
       "250           diagnostic_imaging_of_optic_nerve_of_eye                 141  \n",
       "251                       diagnostic_imaging_of_retina                  86  \n",
       "252  measurement_of_corneal_curvature_and_depth_of_eye                  89  \n",
       "253  examination_of_eye_by_ophthalmoscope_with_reti...                  24  \n",
       "254                          photography_of_the_retina                 183  \n",
       "255  new_patient_office_or_other_outpatient_visit,_...                  46  \n",
       "256  established_patient_office_or_other_outpatient...                  34  \n",
       "257  established_patient_office_or_other_outpatient...                 113  \n",
       "258  established_patient_office_or_other_outpatient...                  12  \n",
       "259  nuclear_medicine_study_of_vessels_of_heart_usi...                  58  \n",
       "260  routine_ekg_using_at_least_12_leads_including_...                 106  \n",
       "261  routine_electrocardiogram_(ekg)_using_at_least...                 353  \n",
       "262  routine_electrocardiogram_(ekg)_using_at_least...                  29  \n",
       "263  exercise_or_drug-induced_heart_and_blood_vesse...                  82  \n",
       "264  exercise_or_drug-induced_heart_and_blood_vesse...                  83  \n",
       "265  heart_rhythm_tracing,_analysis,_and_interpreta...                  18  \n",
       "266  ultrasound_examination_of_heart_including_colo...                 191  \n",
       "267  ultrasound_examination_of_the_heart_performed_...                  24  \n",
       "268  insertion_of_catheter_in_left_heart_for_imagin...                  35  \n",
       "269  ultrasound_scanning_of_blood_flow_(outside_the...                  22  \n",
       "270  ultrasound_study_of_arteries_of_both_arms_and_...                  23  \n",
       "271  new_patient_office_or_other_outpatient_visit,_...                  56  "
      ]
     },
     "execution_count": 65,
     "metadata": {},
     "output_type": "execute_result"
    }
   ],
   "source": [
    "unknown_physproc.head(50)"
   ]
  },
  {
   "cell_type": "code",
   "execution_count": null,
   "metadata": {
    "collapsed": true
   },
   "outputs": [],
   "source": []
  }
 ],
 "metadata": {
  "kernelspec": {
   "display_name": "Python 3",
   "language": "python",
   "name": "python3"
  },
  "language_info": {
   "codemirror_mode": {
    "name": "ipython",
    "version": 3
   },
   "file_extension": ".py",
   "mimetype": "text/x-python",
   "name": "python",
   "nbconvert_exporter": "python",
   "pygments_lexer": "ipython3",
   "version": "3.6.0"
  }
 },
 "nbformat": 4,
 "nbformat_minor": 2
}
