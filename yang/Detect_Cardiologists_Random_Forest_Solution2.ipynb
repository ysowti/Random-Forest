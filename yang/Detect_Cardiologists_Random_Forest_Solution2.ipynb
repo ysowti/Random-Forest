{
 "cells": [
  {
   "cell_type": "markdown",
   "metadata": {},
   "source": [
    "# Detect Cardiologists Using Random Forest (Solution 2)\n",
    "\n",
    "In this solution I use Random Forest model to classify cardiologists from others in a group of physicians with unknown specialty. For this reason I use 'procedure_code' as the main feature to train random forest classifier (RFC). In this work I also did a more thorough evaluation of the tuned model based on cross validation, precision recall tradeoff and ROC curve. The procedure is divided into 6 steps including preprocessing and feature extraction, modeling, precision/recall tradeoff, test set evaluation and prediction on 'unknown'."
   ]
  },
  {
   "cell_type": "code",
   "execution_count": 1,
   "metadata": {
    "collapsed": true
   },
   "outputs": [],
   "source": [
    "# First of all I import all the libraries that I need during analysis\n",
    "import pandas as pd\n",
    "import numpy as np\n",
    "import scipy as sp\n",
    "import matplotlib\n",
    "import matplotlib.pylab as plt\n",
    "plt.rcParams['figure.figsize'] = (10, 6)\n",
    "\n",
    "import sklearn\n",
    "from sklearn.model_selection import StratifiedShuffleSplit, cross_val_score, cross_val_predict\n",
    "from sklearn.metrics import confusion_matrix, precision_recall_curve, precision_score, \\\n",
    "recall_score, f1_score, roc_curve, roc_auc_score\n",
    "\n",
    "from sklearn.ensemble import RandomForestClassifier\n",
    "from sklearn.preprocessing import OneHotEncoder, LabelEncoder, LabelBinarizer\n",
    "\n",
    "%matplotlib inline"
   ]
  },
  {
   "cell_type": "markdown",
   "metadata": {},
   "source": [
    "# Preprocessing and Feature Extraction\n",
    "\n",
    "In the first step I preprocess the data to extract feature vectors and target vectors that later on can be used to train the model. First of all, physicians and procedure datasets are imported into 'phys' and 'proc' dataframes, respectively. Next, all distinct 'procedure_code's are extracted to create a transformer called LabelBinarizer. LabelBinarizer converts categorical data like 'procedure_code' to integer categories and from integer categories to one-hot vectors (vectors with attribute equal to 1 for one category and 0 otherwise). at next step I split physicians with known 'specialty' from unknown ones using unknown indexes. The dataset with known specialty is called 'phys_known' and the other one 'phys_unknown'.\n",
    "\n",
    "After splitting the data, I use 'feature_extract' function to form a feature matrix where all 'procedure_code's available for each phys['id'] are expressed as a vector taking binary values on each procedure, and then all these vectors are sumed up vertically to form a feature vector per phys['id']. This function is applied on 'phys_unknown' to extract feature vectors for physicians with known 'specialty'. Then, I use 'extract_target' function to extract traget values used to form the target vector 'y'.\n",
    "\n",
    "Now that we have the required features and target values to train classifer, we need to split the data into train and test sets where train data will be used to train the model. For this instead of using the common approach of random sampling I use stratified sampling that divides the population into homogeneous subgroups called starta, and the irght number of instances is sampled from each stratum to guarantee that the test set is representative of the overall population. Train data input and output is called X_train and y_train and for the test data it is called X_test and y_test. Test_data later on will be used to evaluate performance of the classifier."
   ]
  },
  {
   "cell_type": "code",
   "execution_count": 2,
   "metadata": {
    "collapsed": false
   },
   "outputs": [
    {
     "data": {
      "text/plain": [
       "LabelBinarizer(neg_label=0, pos_label=1, sparse_output=False)"
      ]
     },
     "execution_count": 2,
     "metadata": {},
     "output_type": "execute_result"
    }
   ],
   "source": [
    "# import physicians data\n",
    "phys = pd.read_csv('../physicians.csv')\n",
    "\n",
    "\n",
    "proc = pd.read_csv('../procedures.csv')\n",
    "\n",
    "\n",
    "# Get all the distinct 'procedure_code's and use them to create LabelBinarizer \n",
    "proc_code_list = sorted(proc['procedure_code'].unique())\n",
    "proc_label_binarizer = LabelBinarizer(sparse_output=False)\n",
    "proc_label_binarizer.fit(proc_code_list)"
   ]
  },
  {
   "cell_type": "code",
   "execution_count": 3,
   "metadata": {
    "collapsed": true
   },
   "outputs": [],
   "source": [
    "# split phsician data into unknown and known\n",
    "\n",
    "# Get unknown indexes in physicians and split physicians based on that\n",
    "_choose = ['Unknown' in specialty for specialty in phys['specialty']]\n",
    "phys_unknown = phys[_choose]\n",
    "phys_known = phys[[not ii for ii in _choose]]"
   ]
  },
  {
   "cell_type": "code",
   "execution_count": 4,
   "metadata": {
    "collapsed": true
   },
   "outputs": [],
   "source": [
    "# This function forms the feature matrix\n",
    "# Features are all procedure_code expressed in a vector taking binary values on each procedure (True/False)\n",
    "def extract_features(phys):\n",
    "    X = []\n",
    "    for nrow, physician_id in enumerate(phys['id']):\n",
    "        # get all the 'procedures_code' conduced by a physician\n",
    "        _proc = proc[proc['physician_id'] == physician_id]['procedure_code']\n",
    "        # binarizing all available 'procedure_code' using label_binarizer\n",
    "        _bin = proc_label_binarizer.transform(_proc.values)\n",
    "        # Take vertical sum to form a feature vector and append to X\n",
    "        X.append(_bin.sum(axis=0))\n",
    "    \n",
    "    return np.asarray(X)\n",
    "# Apply feature extraction function to extract feature for physicians with known 'specialty'\n",
    "X = extract_features(phys_known)"
   ]
  },
  {
   "cell_type": "code",
   "execution_count": 5,
   "metadata": {
    "collapsed": true
   },
   "outputs": [],
   "source": [
    "# This function extract target values that are used to form the target vector (y)\n",
    "def extract_targets(phys):\n",
    "    return (phys['specialty'] == 'Cardiology').values\n",
    "\n",
    "y = extract_targets(phys_known)\n"
   ]
  },
  {
   "cell_type": "code",
   "execution_count": 6,
   "metadata": {
    "collapsed": true
   },
   "outputs": [],
   "source": [
    "# Stratified shuffle-split method is used to split the data into train and test sets\n",
    "split = StratifiedShuffleSplit(n_splits=1, test_size=0.2, random_state=42)\n",
    "\n",
    "for train_index, test_index in split.split(X, y):\n",
    "    X_train = X[train_index,:]\n",
    "    y_train = y[train_index]\n",
    "    \n",
    "    X_test = X[test_index,:]\n",
    "    y_test = y[test_index]\n"
   ]
  },
  {
   "cell_type": "markdown",
   "metadata": {},
   "source": [
    "# Modeling\n",
    "\n",
    "At this step I use the generated training dataset to train a random forest model and use Scikit-Learn’s cross-validation feature to evaluate it. First of all, I creat an RFC object and then fit the model to the training data X_train and y_train obtained from last step. I run cross vaidation of 5-fold and get the average accuracy score for each fold. As can be seen all the accuracy scores are close to 0.97. As the next step, I use cross_val_predict() to performs 5-fold cross-validation and to return the predictions made on each test fold. This means that I get a clean prediction for each instance in the training set (“clean” meaning that the prediction is made by a model that never saw the data during training). After getting these predictions, the last step is to compare them with actual values and get the confusion matrix, precision, recall and f1 scores.\n",
    "\n",
    "Confusion matrix indcate that 113117 instances of training data are identified correctly as class 0 (non-cardiologists) that are true negatives, and 6274 cases are correctly classified to 1 (specialty of cardiology) as true positives. On the other hand, there are 345 false negatives and 207 false positives. It can also be seen that obtained precision is approximately 0.97, and recall is roughly 0.95 giving us f1-score of about 0.96."
   ]
  },
  {
   "cell_type": "code",
   "execution_count": 7,
   "metadata": {
    "collapsed": false
   },
   "outputs": [
    {
     "data": {
      "text/plain": [
       "RandomForestClassifier(bootstrap=True, class_weight=None, criterion='gini',\n",
       "            max_depth=None, max_features='auto', max_leaf_nodes=None,\n",
       "            min_impurity_split=1e-07, min_samples_leaf=1,\n",
       "            min_samples_split=2, min_weight_fraction_leaf=0.0,\n",
       "            n_estimators=10, n_jobs=1, oob_score=False, random_state=42,\n",
       "            verbose=0, warm_start=False)"
      ]
     },
     "execution_count": 7,
     "metadata": {},
     "output_type": "execute_result"
    }
   ],
   "source": [
    "# train random forest classifier on training data\n",
    "forest_clf = RandomForestClassifier(random_state=42)\n",
    "forest_clf.fit(X_train, y_train)"
   ]
  },
  {
   "cell_type": "code",
   "execution_count": 8,
   "metadata": {
    "collapsed": false
   },
   "outputs": [
    {
     "data": {
      "text/plain": [
       "array([ 0.96966658,  0.97192279,  0.97568313,  0.9716721 ,  0.97266115])"
      ]
     },
     "execution_count": 8,
     "metadata": {},
     "output_type": "execute_result"
    }
   ],
   "source": [
    "# get cross validation score for 50fold cross validation\n",
    "cross_val_score(forest_clf, X_train, y_train, cv=5, scoring=\"accuracy\")"
   ]
  },
  {
   "cell_type": "code",
   "execution_count": 9,
   "metadata": {
    "collapsed": false
   },
   "outputs": [
    {
     "name": "stdout",
     "output_type": "stream",
     "text": [
      "Confusion Matrix: \n",
      " [[13117   207]\n",
      " [  345  6274]]\n",
      "Precision Score:  0.968060484493\n",
      "Recall Score:  0.947877322858\n",
      "F1 Score:  0.95786259542\n"
     ]
    }
   ],
   "source": [
    "# Run cross vaidation of 5-fold and get clean prediction on each fold\n",
    "y_train_pred = cross_val_predict(forest_clf, X_train, y_train, cv=5)\n",
    "\n",
    "# calculate confusion matrix and calculate precision, recall and f1 score\n",
    "\n",
    "print(\"Confusion Matrix: \\n\", confusion_matrix(y_train, y_train_pred))\n",
    "print(\"Precision Score: \", precision_score(y_train, y_train_pred))\n",
    "print(\"Recall Score: \", recall_score(y_train, y_train_pred))\n",
    "print(\"F1 Score: \", f1_score(y_train, y_train_pred))"
   ]
  },
  {
   "cell_type": "markdown",
   "metadata": {},
   "source": [
    "# Presicion/Recall Tradeoff\n",
    "\n",
    "At this step We study the precision/recall tradeoff for the trained classifier in last step. First of all, I use corss_val_predict, but this time instead of returning prediction I ask it to return prbabilities of each instance per class. the Random Forest Classifier has a predict_proba() method that returns an array containing a row per instance and a column per class, each containing the probability that the given instance belongs to the given class. Then, it uses threshold to decide which instance belongs to which class. Since here exists only two classes, by default this threshold is 0.5. Next, I plot precision and recall when this threshold varies from 0 to 1. You can see the tradeoff between precision and recall, as with very high precision in return you get a low recall and vice versa. Also, we can see that 0.5 seems to be a good threshold because this is the threshold that yields to a high value for precision and recall."
   ]
  },
  {
   "cell_type": "code",
   "execution_count": 24,
   "metadata": {
    "collapsed": true
   },
   "outputs": [],
   "source": [
    "# Precision/Recall tradeoff\n",
    "\n",
    "y_probas_forest = cross_val_predict(forest_clf, X_train, y_train, cv=5, method='predict_proba')\n",
    "\n",
    "y_scores_forest = y_probas_forest[:, 1]  # score = proba of positive class\n",
    "\n",
    "precisions, recalls, thresholds = precision_recall_curve(y_train, y_scores_forest)\n"
   ]
  },
  {
   "cell_type": "code",
   "execution_count": 26,
   "metadata": {
    "collapsed": false
   },
   "outputs": [
    {
     "data": {
      "text/plain": [
       "<matplotlib.legend.Legend at 0x23a9b2ea128>"
      ]
     },
     "execution_count": 26,
     "metadata": {},
     "output_type": "execute_result"
    },
    {
     "data": {
      "image/png": "[encoded data removed]",
      "text/plain": [
       "<matplotlib.figure.Figure at 0x23a9b3521d0>"
      ]
     },
     "metadata": {},
     "output_type": "display_data"
    }
   ],
   "source": [
    "# Plot precision and recal vs threshold\n",
    "fig = plt.figure(figsize=(15,7))\n",
    "axes = fig.add_axes([0.1, 0.1, 0.8, 0.8])\n",
    "axes.plot(thresholds, precisions[:-1], label = 'precision')\n",
    "axes.plot(thresholds, recalls[:-1], label = 'Recall')\n",
    "axes.set_xlabel('Threshold')\n",
    "axes.set_title('Precision and recall versus the decision threshold')\n",
    "axes.legend()"
   ]
  },
  {
   "cell_type": "markdown",
   "metadata": {},
   "source": [
    "# The Receiver Operating Characteristic Curve (ROC)\n",
    "\n",
    "As another performance evaluation here I use receiver operating characteristics curve (ROC) that plots true positive rate against the false positive rate. Once again there is a tradeoff: the higher the recall (TPR), the more false positives\n",
    "(FPR) the classifier produces. The dotted line represents the ROC curve of a purely random classifier; a good classifier stays as far away from that line as possible (toward the top-left corner). One way to compare classifiers is to measure the area under the curve (AUC). A perfect classifier will have a ROC AUC equal to 1. Here AUC that trained cassifier obtains is 0.985 that pretty close 1 that is desirable."
   ]
  },
  {
   "cell_type": "code",
   "execution_count": 27,
   "metadata": {
    "collapsed": true
   },
   "outputs": [],
   "source": [
    "# The ROC curve\n",
    "fpr, tpr, thresholds = roc_curve(y_train, y_scores_forest)"
   ]
  },
  {
   "cell_type": "code",
   "execution_count": 28,
   "metadata": {
    "collapsed": false
   },
   "outputs": [
    {
     "data": {
      "text/plain": [
       "<matplotlib.text.Text at 0x23a9b342320>"
      ]
     },
     "execution_count": 28,
     "metadata": {},
     "output_type": "execute_result"
    },
    {
     "data": {
      "image/png": "[encoded data removed]",
      "text/plain": [
       "<matplotlib.figure.Figure at 0x23a9b397ba8>"
      ]
     },
     "metadata": {},
     "output_type": "display_data"
    }
   ],
   "source": [
    "# plot ROC curve\n",
    "plt.figure(figsize=(15,7))\n",
    "plt.plot(fpr, tpr)\n",
    "plt.plot([0, 1],[0, 1],'k--')\n",
    "plt.xlabel('False Positive Rate')\n",
    "plt.ylabel('True Positive Rate')\n",
    "plt.title('ROC curve')"
   ]
  },
  {
   "cell_type": "code",
   "execution_count": 14,
   "metadata": {
    "collapsed": false
   },
   "outputs": [
    {
     "data": {
      "text/plain": [
       "0.98515118045995231"
      ]
     },
     "execution_count": 14,
     "metadata": {},
     "output_type": "execute_result"
    }
   ],
   "source": [
    "# Compute AUC for the classifier\n",
    "roc_auc_score(y_train, y_scores_forest)"
   ]
  },
  {
   "cell_type": "markdown",
   "metadata": {
    "collapsed": true
   },
   "source": [
    "# Test Set Evaluation\n",
    "\n",
    "In this step I use test data to evaluate the RFC that was created in modeling step. Fist of all, I use the tuned RFC to get predictions for test data and then use these predictions to obtain confusion matrix and precision, recall and f1 scores similar to modeling step with a difference that here completely outside data is used to get these scores. As can be seen, precision 0f 0.966 is a bit higher than recall of about 0.946 resulting in f1 score of 0.956. That is because false negative is lager that false positve meaning that there are more instances of class 1 being falsely classified as 0 than cases of class 0 being falsely identified as class 1."
   ]
  },
  {
   "cell_type": "code",
   "execution_count": 15,
   "metadata": {
    "collapsed": true
   },
   "outputs": [],
   "source": [
    "# Run predictions on test data using modeled RFC\n",
    "y_test_pred = forest_clf.predict(X_test)"
   ]
  },
  {
   "cell_type": "code",
   "execution_count": 16,
   "metadata": {
    "collapsed": false
   },
   "outputs": [
    {
     "name": "stdout",
     "output_type": "stream",
     "text": [
      "Confusion Matrix: \n",
      " [[3276   55]\n",
      " [  88 1567]]\n",
      "Precision Score:  0.966091245376\n",
      "Recall Score:  0.946827794562\n",
      "F1 Score:  0.956362526701\n"
     ]
    }
   ],
   "source": [
    "# calculate confusion matrix and calculate precision, recall and f1 score\n",
    "from sklearn.metrics import confusion_matrix, precision_recall_curve, precision_score, recall_score, f1_score\n",
    "print(\"Confusion Matrix: \\n\", confusion_matrix(y_test, y_test_pred))\n",
    "print(\"Precision Score: \", precision_score(y_test, y_test_pred))\n",
    "print(\"Recall Score: \", recall_score(y_test, y_test_pred))\n",
    "print(\"F1 Score: \", f1_score(y_test, y_test_pred))"
   ]
  },
  {
   "cell_type": "markdown",
   "metadata": {},
   "source": [
    "# Prediction on the 'Unkown'\n",
    "\n",
    "As the last step I use the random forest model that I trained and evaluated in last steps to run predictions in instances of physicians with unknown specialty. It results in 3631 physicians being detected as cardilogists out of 11096."
   ]
  },
  {
   "cell_type": "code",
   "execution_count": 17,
   "metadata": {
    "collapsed": true
   },
   "outputs": [],
   "source": [
    "# Extract features for phys_unknwon\n",
    "X_ = extract_features(phys_unknown)"
   ]
  },
  {
   "cell_type": "code",
   "execution_count": 18,
   "metadata": {
    "collapsed": false
   },
   "outputs": [
    {
     "name": "stdout",
     "output_type": "stream",
     "text": [
      "Number of carodiologists found is 3631 out of 11096\n",
      "Percentage of carodiologists found out of total is:  0.327235039654\n"
     ]
    }
   ],
   "source": [
    "# Get predictions for phys_unknown using RFC and get the total number of cardiologists\n",
    "y_unknown_pred = forest_clf.predict(X_)\n",
    "predicted_counts = y_unknown_pred.sum()\n",
    "total_predicted = len(y_unknown_pred)\n",
    "print(\"Number of carodiologists found is {} out of {}\".format(predicted_counts,total_predicted))\n",
    "\n",
    "print(\"Percentage of carodiologists found out of total is: \", (y_unknown_pred.sum()/len(y_unknown_pred)))"
   ]
  }
 ],
 "metadata": {
  "kernelspec": {
   "display_name": "Python 3",
   "language": "python",
   "name": "python3"
  },
  "language_info": {
   "codemirror_mode": {
    "name": "ipython",
    "version": 3
   },
   "file_extension": ".py",
   "mimetype": "text/x-python",
   "name": "python",
   "nbconvert_exporter": "python",
   "pygments_lexer": "ipython3",
   "version": "3.6.0"
  }
 },
 "nbformat": 4,
 "nbformat_minor": 2
}
