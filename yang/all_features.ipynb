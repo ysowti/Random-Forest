{
 "cells": [
  {
   "cell_type": "code",
   "execution_count": 342,
   "metadata": {
    "collapsed": true
   },
   "outputs": [],
   "source": [
    "import pandas as pd\n",
    "\n",
    "from sklearn.pipeline import Pipeline\n",
    "from sklearn.base import BaseEstimator, TransformerMixin\n",
    "from sklearn.preprocessing import LabelBinarizer\n",
    "from sklearn.model_selection import StratifiedShuffleSplit, cross_val_score, cross_val_predict\n",
    "from sklearn.metrics import confusion_matrix, precision_recall_curve, precision_score, \\\n",
    "recall_score, f1_score, roc_curve, roc_auc_score\n",
    "\n",
    "from sklearn.ensemble import RandomForestClassifier\n",
    "from sklearn.linear_model import SGDClassifier\n",
    "\n",
    "import numpy as np\n",
    "\n",
    "import matplotlib.pylab as plt\n",
    "\n",
    "from scipy.sparse import vstack, dok_matrix, csr_matrix, lil_matrix\n",
    "\n",
    "import nltk \n",
    "from nltk.tokenize import RegexpTokenizer\n",
    "from nltk.corpus import stopwords\n",
    "%matplotlib inline"
   ]
  },
  {
   "cell_type": "code",
   "execution_count": 259,
   "metadata": {},
   "outputs": [
    {
     "name": "stdout",
     "output_type": "stream",
     "text": [
      "<class 'pandas.core.frame.DataFrame'>\n",
      "RangeIndex: 36025 entries, 0 to 36024\n",
      "Data columns (total 2 columns):\n",
      "id           36025 non-null int64\n",
      "specialty    36025 non-null object\n",
      "dtypes: int64(1), object(1)\n",
      "memory usage: 563.0+ KB\n",
      "<class 'pandas.core.frame.DataFrame'>\n",
      "RangeIndex: 587774 entries, 0 to 587773\n",
      "Data columns (total 4 columns):\n",
      "physician_id          587774 non-null int64\n",
      "procedure_code        587774 non-null object\n",
      "procedure             587774 non-null object\n",
      "number_of_patients    587774 non-null int64\n",
      "dtypes: int64(2), object(2)\n",
      "memory usage: 17.9+ MB\n"
     ]
    }
   ],
   "source": [
    "physicians = pd.read_csv('../physicians.csv')\n",
    "physicians.info()\n",
    "\n",
    "procedures = pd.read_csv('../procedures.csv')\n",
    "procedures.info()"
   ]
  },
  {
   "cell_type": "code",
   "execution_count": 332,
   "metadata": {},
   "outputs": [],
   "source": [
    "class ProcedureCodeFeatureExtractor(BaseEstimator, TransformerMixin):\n",
    "    '''Note there are 2 ways to define feature of a procedure code:\n",
    "    First Way: 1 & 0 representing if the doctor practice a procedure or not\n",
    "    Second Way: 0 ~ n representing number of patients the doctor looked for a procedure\n",
    "    \n",
    "    This class implements the first way.\n",
    "    '''\n",
    "    \n",
    "    def __init__(self, all_procedures_df):\n",
    "        self._all_procedures_df = all_procedures_df\n",
    "        proc_code_list = sorted(all_procedures_df['procedure_code'].unique())\n",
    "        self.num_procedure_codes = len(proc_code_list)\n",
    "        self.proc_label_binarizer = LabelBinarizer(sparse_output=True)\n",
    "        self.proc_label_binarizer.fit(proc_code_list)\n",
    "\n",
    "    def fit(self, X, y=None):\n",
    "        return self\n",
    "    \n",
    "    def transform(self, pysicians_df, y=None):\n",
    "        \n",
    "        joined = pd.merge(pysicians_df[['id']], self._all_procedures_df[['physician_id','procedure_code']], \n",
    "                           left_on='id', right_on='physician_id')\n",
    "        \n",
    "        grouped = joined.groupby('physician_id').aggregate({'procedure_code': self._aggregate})\n",
    "        \n",
    "        X = vstack(grouped['procedure_code'].values)\n",
    "        \n",
    "        y = (pysicians_df['specialty'] == 'Cardiology').values\n",
    "        \n",
    "        return X, y\n",
    "    \n",
    "    def _aggregate(self, pcodes):\n",
    "        out = sum(self.proc_label_binarizer.transform(pcodes))\n",
    "        return out\n"
   ]
  },
  {
   "cell_type": "code",
   "execution_count": 302,
   "metadata": {},
   "outputs": [
    {
     "name": "stdout",
     "output_type": "stream",
     "text": [
      "<class 'scipy.sparse.csr.csr_matrix'>\n",
      "<class 'scipy.sparse.csr.csr_matrix'>\n",
      "<class 'scipy.sparse.csr.csr_matrix'>\n",
      "<class 'scipy.sparse.csr.csr_matrix'>\n",
      "<class 'scipy.sparse.csr.csr_matrix'>\n",
      "<class 'scipy.sparse.csr.csr_matrix'>\n",
      "<class 'scipy.sparse.csr.csr_matrix'>\n",
      "<class 'scipy.sparse.csr.csr_matrix'>\n",
      "<class 'scipy.sparse.csr.csr_matrix'>\n",
      "<class 'scipy.sparse.csr.csr_matrix'>\n"
     ]
    },
    {
     "data": {
      "text/plain": [
       "(<10x3140 sparse matrix of type '<class 'numpy.int64'>'\n",
       " \twith 131 stored elements in Compressed Sparse Row format>,\n",
       " array([False, False, False, False, False,  True, False,  True, False,  True], dtype=bool))"
      ]
     },
     "execution_count": 302,
     "metadata": {},
     "output_type": "execute_result"
    }
   ],
   "source": [
    "ext = ProcedureCodeFeatureExtractor(procedures)\n",
    "X = ext.fit_transform(physicians[:10])\n",
    "\n",
    "X"
   ]
  },
  {
   "cell_type": "code",
   "execution_count": 317,
   "metadata": {},
   "outputs": [],
   "source": [
    "class ProcedureTextFeatureExtractor(BaseEstimator, TransformerMixin):\n",
    "    ''' 3 ways to define features:\n",
    "    1. 0 & 1 - representing if the doctor's procedures contain that word\n",
    "    2. 0 ~ n - representing how many times the word appears in all doctor's procedures\n",
    "    3. 0 ~ n - num of times multiplied by num of patients\n",
    "    \n",
    "    This class implements the first way.\n",
    "    \n",
    "    The problem is if num of patients matter? How?\n",
    "    \n",
    "    '''\n",
    "    \n",
    "    stopwords_set = set(stopwords.words('english'))\n",
    "    _tokenizer = RegexpTokenizer(r'[a-zA-Z]+')\n",
    "    \n",
    "    def __init__(self, all_procedures_df):\n",
    "        \n",
    "        self._all_procedures_df = all_procedures_df\n",
    "\n",
    "        words = set()\n",
    "        for p in all_procedures_df['procedure'].values:\n",
    "            words |= self._tokenize(p)\n",
    "        \n",
    "        self.feature_words = list(sorted(words))\n",
    "        self.num_features = len(self.feature_words)\n",
    "        \n",
    "        self._index_lookup = {f:index for index, f in enumerate(self.feature_words)}\n",
    "    \n",
    "    def _tokenize(self, procedure):\n",
    "        return set(self._tokenizer.tokenize(procedure)) - self.stopwords_set\n",
    "\n",
    "    def fit(self, X, y=None):\n",
    "        return self\n",
    "    \n",
    "    def transform(self, pysicians_df, y=None):\n",
    "        \n",
    "        joined = pd.merge(pysicians_df[['id']], self._all_procedures_df[['physician_id','procedure']], \n",
    "                           left_on='id', right_on='physician_id')\n",
    "        \n",
    "        grouped = joined.groupby('physician_id').aggregate({'procedure': self._aggregate})\n",
    "        \n",
    "        X = vstack(grouped['procedure'].values)\n",
    "        \n",
    "        y = (pysicians_df['specialty'] == 'Cardiology').values\n",
    "        \n",
    "        return X, y\n",
    "    \n",
    "    def _aggregate(self, procedures):\n",
    "        words = set()\n",
    "        for p in procedures.values:\n",
    "            words |= self._tokenize(p)\n",
    "        \n",
    "        fvec = lil_matrix((1, self.num_features),dtype=np.float32)\n",
    "    \n",
    "        for w in words:\n",
    "            fvec[0, self._index_lookup[w]] = 1.\n",
    "\n",
    "        return fvec.tocsr()\n",
    "        "
   ]
  },
  {
   "cell_type": "code",
   "execution_count": 324,
   "metadata": {},
   "outputs": [],
   "source": []
  },
  {
   "cell_type": "code",
   "execution_count": 320,
   "metadata": {},
   "outputs": [],
   "source": [
    "# split phsician data into unknown and known\n",
    "\n",
    "# Get unknown index\n",
    "_choose = ['Unknown' in specialty for specialty in physicians['specialty']]\n",
    "phys_unknown = physicians[_choose]\n",
    "phys_known = physicians[[not ii for ii in _choose]]\n",
    "\n",
    "# phys_unknown.info()"
   ]
  },
  {
   "cell_type": "code",
   "execution_count": 325,
   "metadata": {
    "collapsed": true
   },
   "outputs": [],
   "source": [
    "ext = ProcedureTextFeatureExtractor(procedures)\n",
    "X, y = ext.transform(phys_known)\n"
   ]
  },
  {
   "cell_type": "code",
   "execution_count": 333,
   "metadata": {},
   "outputs": [],
   "source": [
    "ext = ProcedureCodeFeatureExtractor(procedures)\n",
    "X, y = ext.transform(phys_known)"
   ]
  },
  {
   "cell_type": "code",
   "execution_count": 334,
   "metadata": {},
   "outputs": [],
   "source": [
    "# Stratified shuffle-split into train and test sets\n",
    "split = StratifiedShuffleSplit(n_splits=1, test_size=0.2, random_state=42)\n",
    "\n",
    "for train_index, test_index in split.split(X, y):\n",
    "    X_train = X[train_index,:]\n",
    "    y_train = y[train_index]\n",
    "    \n",
    "    X_test = X[test_index,:]\n",
    "    y_test = y[test_index]"
   ]
  },
  {
   "cell_type": "code",
   "execution_count": 335,
   "metadata": {},
   "outputs": [
    {
     "data": {
      "text/plain": [
       "SGDClassifier(alpha=0.0001, average=False, class_weight=None, epsilon=0.1,\n",
       "       eta0=0.0, fit_intercept=True, l1_ratio=0.15,\n",
       "       learning_rate='optimal', loss='hinge', n_iter=5, n_jobs=1,\n",
       "       penalty='l2', power_t=0.5, random_state=42, shuffle=True, verbose=0,\n",
       "       warm_start=False)"
      ]
     },
     "execution_count": 335,
     "metadata": {},
     "output_type": "execute_result"
    }
   ],
   "source": [
    "sgd_clf = SGDClassifier(random_state=42)\n",
    "sgd_clf.fit(X_train, y_train)"
   ]
  },
  {
   "cell_type": "code",
   "execution_count": 336,
   "metadata": {},
   "outputs": [
    {
     "data": {
      "text/plain": [
       "array([ 0.96515417,  0.96515417,  0.97468037,  0.966909  ,  0.97165789])"
      ]
     },
     "execution_count": 336,
     "metadata": {},
     "output_type": "execute_result"
    }
   ],
   "source": [
    "cross_val_score(sgd_clf, X_train, y_train, cv=5, scoring=\"accuracy\")"
   ]
  },
  {
   "cell_type": "code",
   "execution_count": 337,
   "metadata": {},
   "outputs": [
    {
     "name": "stdout",
     "output_type": "stream",
     "text": [
      "Confusion Matrix: \n",
      " [[13160   164]\n",
      " [  460  6159]]\n",
      "Precision Score:  0.974062944805\n",
      "Recall Score:  0.930503097145\n",
      "F1 Score:  0.951784886416\n"
     ]
    }
   ],
   "source": [
    "y_train_pred = cross_val_predict(sgd_clf, X_train, y_train, cv=5)\n",
    "\n",
    "# calculate confusion matrix\n",
    "\n",
    "print(\"Confusion Matrix: \\n\", confusion_matrix(y_train, y_train_pred))\n",
    "print(\"Precision Score: \", precision_score(y_train, y_train_pred))\n",
    "print(\"Recall Score: \", recall_score(y_train, y_train_pred))\n",
    "print(\"F1 Score: \", f1_score(y_train, y_train_pred))"
   ]
  },
  {
   "cell_type": "code",
   "execution_count": 338,
   "metadata": {
    "collapsed": true
   },
   "outputs": [],
   "source": [
    "# Precision/Recall tradeoff\n",
    "\n",
    "y_scores_forest = cross_val_predict(sgd_clf, X_train, y_train, cv=5, method='decision_function')\n",
    "\n",
    "precisions, recalls, thresholds = precision_recall_curve(y_train, y_scores_forest)"
   ]
  },
  {
   "cell_type": "code",
   "execution_count": 343,
   "metadata": {},
   "outputs": [
    {
     "data": {
      "text/plain": [
       "<matplotlib.text.Text at 0x116c8d518>"
      ]
     },
     "execution_count": 343,
     "metadata": {},
     "output_type": "execute_result"
    },
    {
     "data": {
      "image/png": "[encoded data removed]",
      "text/plain": [
       "<matplotlib.figure.Figure at 0x1168fdb00>"
      ]
     },
     "metadata": {},
     "output_type": "display_data"
    }
   ],
   "source": [
    "plt.figure(figsize=(15,7))\n",
    "plt.plot(thresholds, precisions[:-1])\n",
    "plt.plot(thresholds, recalls[:-1])\n",
    "plt.xlabel('Threshold')"
   ]
  },
  {
   "cell_type": "code",
   "execution_count": null,
   "metadata": {
    "collapsed": true
   },
   "outputs": [],
   "source": []
  }
 ],
 "metadata": {
  "kernelspec": {
   "display_name": "venv",
   "language": "python",
   "name": "venv"
  },
  "language_info": {
   "codemirror_mode": {
    "name": "ipython",
    "version": 3
   },
   "file_extension": ".py",
   "mimetype": "text/x-python",
   "name": "python",
   "nbconvert_exporter": "python",
   "pygments_lexer": "ipython3",
   "version": "3.6.1"
  }
 },
 "nbformat": 4,
 "nbformat_minor": 2
}
