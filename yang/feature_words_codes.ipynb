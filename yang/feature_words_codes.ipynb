{
 "cells": [
  {
   "cell_type": "code",
   "execution_count": 1,
   "metadata": {
    "collapsed": true
   },
   "outputs": [],
   "source": [
    "import pandas as pd\n",
    "\n",
    "from sklearn.pipeline import Pipeline\n",
    "from sklearn.base import BaseEstimator, TransformerMixin\n",
    "from sklearn.preprocessing import LabelBinarizer\n",
    "from sklearn.model_selection import StratifiedShuffleSplit, cross_val_score, cross_val_predict\n",
    "from sklearn.metrics import confusion_matrix, precision_recall_curve, precision_score, \\\n",
    "recall_score, f1_score, roc_curve, roc_auc_score\n",
    "\n",
    "from sklearn.ensemble import RandomForestClassifier\n",
    "from sklearn.linear_model import SGDClassifier\n",
    "\n",
    "import numpy as np\n",
    "\n",
    "import matplotlib.pylab as plt\n",
    "\n",
    "from scipy.sparse import vstack, dok_matrix, csr_matrix, lil_matrix\n",
    "\n",
    "import nltk \n",
    "from nltk.tokenize import RegexpTokenizer\n",
    "from nltk.corpus import stopwords\n",
    "%matplotlib inline"
   ]
  },
  {
   "cell_type": "code",
   "execution_count": 2,
   "metadata": {},
   "outputs": [],
   "source": [
    "physicians = pd.read_csv('../physicians.csv')\n",
    "# physicians.info()\n",
    "\n",
    "procedures = pd.read_csv('../procedures.csv')\n",
    "# procedures.info()"
   ]
  },
  {
   "cell_type": "code",
   "execution_count": 3,
   "metadata": {
    "collapsed": true
   },
   "outputs": [],
   "source": [
    "# split phsician data into unknown and known\n",
    "\n",
    "# Get unknown index\n",
    "_choose = ['Unknown' in specialty for specialty in physicians['specialty']]\n",
    "phys_unknown = physicians[_choose]\n",
    "phys_known = physicians[[not ii for ii in _choose]]\n",
    "\n",
    "# phys_unknown.info()"
   ]
  },
  {
   "cell_type": "code",
   "execution_count": 4,
   "metadata": {},
   "outputs": [],
   "source": [
    "class FeatureExtractorBase(BaseEstimator, TransformerMixin):\n",
    "    _procedure_words = list(pd.read_csv('procedure_words_list.csv')['word'].values)\n",
    "    _procedure_codes = list(pd.read_csv('procedure_codes_list.csv')['code'].values)\n",
    "    _all_procedures_df = procedures\n",
    "    \n",
    "    def __init__(self, feature_include_words, feature_include_codes):\n",
    "        \n",
    "        self._feature_list = []\n",
    "        \n",
    "        if feature_include_codes:\n",
    "            self._feature_list += self._procedure_codes\n",
    "        \n",
    "        if feature_include_words:\n",
    "            self._feature_list += self._procedure_words\n",
    "        \n",
    "        self._num_features = len(self._feature_list)\n",
    "        \n",
    "        self._index_lookup = {w:i for i, w in enumerate(self._feature_list)}\n",
    "            \n",
    "    \n",
    "    def fit(self, X, y=None):\n",
    "        return self\n",
    "    \n",
    "    def transform(self, pysicians_df, y=None):\n",
    "        \n",
    "        joined = pd.merge(pysicians_df[['id']], self._all_procedures_df, left_on='id', right_on='physician_id')\n",
    "        \n",
    "        grouped = joined.groupby('physician_id').apply(self._apply)\n",
    "\n",
    "        X = vstack(grouped['X'].values)\n",
    "        \n",
    "        y = (pysicians_df['specialty'] == 'Cardiology').values\n",
    "        \n",
    "        return X, y\n",
    "    \n",
    "    def _apply(self, group):\n",
    "        raise NotImplementedError()\n",
    "\n",
    "        \n",
    "class Tokenizer(object):\n",
    "    stopwords_set = set(stopwords.words('english'))\n",
    "    _tokenizer = RegexpTokenizer(r'[a-zA-Z]+')\n",
    "    \n",
    "    def __call__(self, ln):\n",
    "        return set(self._tokenizer.tokenize(ln)) - self.stopwords_set\n",
    "\n",
    "tokenizer = Tokenizer()\n",
    "\n",
    "    \n",
    "class TextCodeExtractor(FeatureExtractorBase):\n",
    "    \n",
    "    def __init__(self):\n",
    "        super().__init__(feature_include_words=True, feature_include_codes=True)\n",
    "    \n",
    "    def _apply(self, group):\n",
    "        keys = set(group['procedure_code'].values)\n",
    "        for p in group['procedure']:\n",
    "            keys.update(tokenizer(p))\n",
    "        \n",
    "        fvec = lil_matrix((1, self._num_features),dtype=np.float32)\n",
    "    \n",
    "        for w in keys:\n",
    "            fvec[0, self._index_lookup[w]] = 1.\n",
    "\n",
    "        return pd.Series({'X': fvec.tocsr()})\n",
    "    \n",
    "    \n",
    "class TextCodePatientExtractor(FeatureExtractorBase):\n",
    "    \n",
    "    def __init__(self):\n",
    "        super().__init__(feature_include_words=True, feature_include_codes=True)\n",
    "    \n",
    "    def _apply(self, group):\n",
    "        \n",
    "        fvec = lil_matrix((1, self._num_features),dtype=np.float32)\n",
    "        \n",
    "        words = set()\n",
    "        \n",
    "        for row in group.iterrows():\n",
    "            procedure_code = row['procedure_code']\n",
    "            code_index = self._index_lookup[procedure_code]\n",
    "            fvec[code_index] += row['number_of_patients']\n",
    "            \n",
    "            words.update(tokenizer(row['procedure']))\n",
    "        \n",
    "        for w in words:\n",
    "            fvec[0, self._index_lookup[w]] = 1.\n",
    "\n",
    "        return pd.Series({'X': fvec.tocsr()})"
   ]
  },
  {
   "cell_type": "code",
   "execution_count": 5,
   "metadata": {},
   "outputs": [],
   "source": [
    "ext = TextCodeExtractor()\n",
    "X, y = ext.transform(phys_known)\n"
   ]
  },
  {
   "cell_type": "code",
   "execution_count": 6,
   "metadata": {
    "collapsed": true
   },
   "outputs": [],
   "source": [
    "# Stratified shuffle-split into train and test sets\n",
    "split = StratifiedShuffleSplit(n_splits=1, test_size=0.2, random_state=42)\n",
    "\n",
    "for train_index, test_index in split.split(X, y):\n",
    "    X_train = X[train_index,:]\n",
    "    y_train = y[train_index]\n",
    "    \n",
    "    X_test = X[test_index,:]\n",
    "    y_test = y[test_index]"
   ]
  },
  {
   "cell_type": "code",
   "execution_count": 7,
   "metadata": {},
   "outputs": [
    {
     "data": {
      "text/plain": [
       "SGDClassifier(alpha=0.0001, average=False, class_weight=None, epsilon=0.1,\n",
       "       eta0=0.0, fit_intercept=True, l1_ratio=0.15,\n",
       "       learning_rate='optimal', loss='hinge', n_iter=5, n_jobs=1,\n",
       "       penalty='l2', power_t=0.5, random_state=42, shuffle=True, verbose=0,\n",
       "       warm_start=False)"
      ]
     },
     "execution_count": 7,
     "metadata": {},
     "output_type": "execute_result"
    }
   ],
   "source": [
    "sgd_clf = SGDClassifier(random_state=42)\n",
    "sgd_clf.fit(X_train, y_train)"
   ]
  },
  {
   "cell_type": "code",
   "execution_count": 8,
   "metadata": {},
   "outputs": [
    {
     "data": {
      "text/plain": [
       "array([ 0.96365004,  0.95838556,  0.97844071,  0.96515417,  0.96990218])"
      ]
     },
     "execution_count": 8,
     "metadata": {},
     "output_type": "execute_result"
    }
   ],
   "source": [
    "cross_val_score(sgd_clf, X_train, y_train, cv=5, scoring=\"accuracy\")"
   ]
  },
  {
   "cell_type": "code",
   "execution_count": 9,
   "metadata": {},
   "outputs": [
    {
     "name": "stdout",
     "output_type": "stream",
     "text": [
      "Confusion Matrix: \n",
      " [[13191   133]\n",
      " [  523  6096]]\n",
      "Precision Score:  0.978648258147\n",
      "Recall Score:  0.920985043058\n",
      "F1 Score:  0.948941469489\n"
     ]
    }
   ],
   "source": [
    "y_train_pred = cross_val_predict(sgd_clf, X_train, y_train, cv=5)\n",
    "\n",
    "# calculate confusion matrix\n",
    "\n",
    "print(\"Confusion Matrix: \\n\", confusion_matrix(y_train, y_train_pred))\n",
    "print(\"Precision Score: \", precision_score(y_train, y_train_pred))\n",
    "print(\"Recall Score: \", recall_score(y_train, y_train_pred))\n",
    "print(\"F1 Score: \", f1_score(y_train, y_train_pred))"
   ]
  },
  {
   "cell_type": "code",
   "execution_count": 10,
   "metadata": {
    "collapsed": true
   },
   "outputs": [],
   "source": [
    "# Precision/Recall tradeoff\n",
    "\n",
    "y_scores_forest = cross_val_predict(sgd_clf, X_train, y_train, cv=5, method='decision_function')\n",
    "\n",
    "precisions, recalls, thresholds = precision_recall_curve(y_train, y_scores_forest)"
   ]
  },
  {
   "cell_type": "code",
   "execution_count": 11,
   "metadata": {},
   "outputs": [
    {
     "data": {
      "text/plain": [
       "<matplotlib.text.Text at 0x1149e0518>"
      ]
     },
     "execution_count": 11,
     "metadata": {},
     "output_type": "execute_result"
    },
    {
     "data": {
      "image/png": "[encoded data removed]",
      "text/plain": [
       "<matplotlib.figure.Figure at 0x113bf1ba8>"
      ]
     },
     "metadata": {},
     "output_type": "display_data"
    }
   ],
   "source": [
    "plt.figure(figsize=(15,7))\n",
    "plt.plot(thresholds, precisions[:-1])\n",
    "plt.plot(thresholds, recalls[:-1])\n",
    "plt.xlabel('Threshold')"
   ]
  },
  {
   "cell_type": "code",
   "execution_count": null,
   "metadata": {
    "collapsed": true
   },
   "outputs": [],
   "source": []
  }
 ],
 "metadata": {
  "kernelspec": {
   "display_name": "venv",
   "language": "python",
   "name": "venv"
  },
  "language_info": {
   "codemirror_mode": {
    "name": "ipython",
    "version": 3
   },
   "file_extension": ".py",
   "mimetype": "text/x-python",
   "name": "python",
   "nbconvert_exporter": "python",
   "pygments_lexer": "ipython3",
   "version": "3.6.1"
  }
 },
 "nbformat": 4,
 "nbformat_minor": 2
}
