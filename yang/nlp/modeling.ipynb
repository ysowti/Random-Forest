{
 "cells": [
  {
   "cell_type": "code",
   "execution_count": 26,
   "metadata": {
    "collapsed": true
   },
   "outputs": [],
   "source": [
    "import pandas as pd\n",
    "import numpy as np\n",
    "from scipy.sparse import dok_matrix, vstack\n",
    "\n",
    "import nltk \n",
    "from nltk.tokenize import RegexpTokenizer\n",
    "from nltk.corpus import stopwords\n",
    "\n",
    "import sklearn\n",
    "from sklearn.model_selection import StratifiedShuffleSplit, cross_val_score, cross_val_predict\n",
    "from sklearn.metrics import confusion_matrix, precision_recall_curve, precision_score, \\\n",
    "recall_score, f1_score, roc_curve, roc_auc_score\n",
    "\n",
    "from sklearn.ensemble import RandomForestClassifier\n",
    "from sklearn.linear_model import SGDClassifier\n",
    "from sklearn.preprocessing import OneHotEncoder, LabelEncoder, LabelBinarizer\n",
    "\n",
    "import matplotlib.pylab as plt\n",
    "%matplotlib inline\n"
   ]
  },
  {
   "cell_type": "code",
   "execution_count": 2,
   "metadata": {},
   "outputs": [
    {
     "name": "stdout",
     "output_type": "stream",
     "text": [
      "<class 'pandas.core.frame.DataFrame'>\n",
      "RangeIndex: 36025 entries, 0 to 36024\n",
      "Data columns (total 2 columns):\n",
      "id           36025 non-null int64\n",
      "specialty    36025 non-null object\n",
      "dtypes: int64(1), object(1)\n",
      "memory usage: 563.0+ KB\n",
      "<class 'pandas.core.frame.DataFrame'>\n",
      "RangeIndex: 587774 entries, 0 to 587773\n",
      "Data columns (total 4 columns):\n",
      "physician_id          587774 non-null int64\n",
      "procedure_code        587774 non-null object\n",
      "procedure             587774 non-null object\n",
      "number_of_patients    587774 non-null int64\n",
      "dtypes: int64(2), object(2)\n",
      "memory usage: 17.9+ MB\n"
     ]
    }
   ],
   "source": [
    "phys = pd.read_csv('../../physicians.csv')\n",
    "phys.info()\n",
    "\n",
    "proc = pd.read_csv('../../procedures.csv')\n",
    "proc.info()\n",
    "# proc['procedure']"
   ]
  },
  {
   "cell_type": "code",
   "execution_count": 3,
   "metadata": {},
   "outputs": [],
   "source": [
    "# split phsician data into unknown and known\n",
    "\n",
    "# Get unknown index\n",
    "_choose = ['Unknown' in specialty for specialty in phys['specialty']]\n",
    "phys_unknown = phys[_choose]\n",
    "phys_known = phys[[not ii for ii in _choose]]\n",
    "\n",
    "# phys_unknown.info()"
   ]
  },
  {
   "cell_type": "code",
   "execution_count": 5,
   "metadata": {},
   "outputs": [],
   "source": [
    "\n",
    "class ExtractWords(object):\n",
    "    stopwords_set = set(stopwords.words('english'))\n",
    "    _tokenizer = RegexpTokenizer(r'[a-zA-Z]+')\n",
    "    \n",
    "    def __init__(self):\n",
    "        words = set()\n",
    "        for ln in self._combine_proc(phys):\n",
    "            words |= self.tokenize(ln)\n",
    "        \n",
    "        self.feature_words = list(sorted(words))\n",
    "        self.num_features = len(self.feature_words)\n",
    "        \n",
    "        self._index_lookup = {f:index for index, f in enumerate(self.feature_words)}\n",
    "    \n",
    "    def tokenize(self, procedure):\n",
    "        return set(self._tokenizer.tokenize(procedure)) - self.stopwords_set\n",
    "        \n",
    "    def get_feature_vector(self, procedure):\n",
    "        # use sparse matrix to save space and time\n",
    "        fvec = dok_matrix((1, self.num_features),dtype=np.float32)\n",
    "        for f in self.tokenize(procedure):\n",
    "            fvec[0, self._index_lookup[f]] = 1.\n",
    "        \n",
    "        return fvec\n",
    "    \n",
    "    def get_feature_matrix(self, procedures_list):\n",
    "        blocks = [self.get_feature_vector(ii) for ii in procedures_list]\n",
    "        return vstack(blocks)\n",
    "    \n",
    "    def _combine_proc(self, phy):\n",
    "        return pd.merge(proc, phy, left_on='physician_id', right_on='id')[['physician_id', 'procedure']]\\\n",
    "    .groupby(by='physician_id').apply(lambda x: '_'.join(x['procedure']))\n",
    "    \n",
    "    def extract_X(self, phy):\n",
    "        return self.get_feature_matrix(self._combine_proc(phy))\n",
    "        \n",
    "\n",
    "extractor = ExtractWords()"
   ]
  },
  {
   "cell_type": "code",
   "execution_count": 14,
   "metadata": {},
   "outputs": [],
   "source": [
    "X = extractor.extract_X(phys_known)\n",
    "X = X.toarray()"
   ]
  },
  {
   "cell_type": "code",
   "execution_count": 15,
   "metadata": {
    "collapsed": true
   },
   "outputs": [],
   "source": [
    "# Form the target vector (y)\n",
    "def extract_targets(phys):\n",
    "    return (phys['specialty'] == 'Cardiology').values\n",
    "\n",
    "y = extract_targets(phys_known)"
   ]
  },
  {
   "cell_type": "code",
   "execution_count": 17,
   "metadata": {},
   "outputs": [],
   "source": [
    "# Stratified shuffle-split into train and test sets\n",
    "split = StratifiedShuffleSplit(n_splits=1, test_size=0.2, random_state=42)\n",
    "\n",
    "for train_index, test_index in split.split(X, y):\n",
    "    X_train = X[train_index,:]\n",
    "    y_train = y[train_index]\n",
    "    \n",
    "    X_test = X[test_index,:]\n",
    "    y_test = y[test_index]"
   ]
  },
  {
   "cell_type": "code",
   "execution_count": 20,
   "metadata": {},
   "outputs": [
    {
     "data": {
      "text/plain": [
       "SGDClassifier(alpha=0.0001, average=False, class_weight=None, epsilon=0.1,\n",
       "       eta0=0.0, fit_intercept=True, l1_ratio=0.15,\n",
       "       learning_rate='optimal', loss='hinge', n_iter=5, n_jobs=1,\n",
       "       penalty='l2', power_t=0.5, random_state=42, shuffle=True, verbose=0,\n",
       "       warm_start=False)"
      ]
     },
     "execution_count": 20,
     "metadata": {},
     "output_type": "execute_result"
    }
   ],
   "source": [
    "sgd_clf = SGDClassifier(random_state=42)\n",
    "sgd_clf.fit(X_train, y_train)\n"
   ]
  },
  {
   "cell_type": "code",
   "execution_count": 21,
   "metadata": {},
   "outputs": [
    {
     "data": {
      "text/plain": [
       "array([ 0.96014039,  0.96365004,  0.97618451,  0.97041865,  0.96338099])"
      ]
     },
     "execution_count": 21,
     "metadata": {},
     "output_type": "execute_result"
    }
   ],
   "source": [
    "cross_val_score(sgd_clf, X_train, y_train, cv=5, scoring=\"accuracy\")"
   ]
  },
  {
   "cell_type": "code",
   "execution_count": 22,
   "metadata": {},
   "outputs": [
    {
     "name": "stdout",
     "output_type": "stream",
     "text": [
      "Confusion Matrix: \n",
      " [[13135   189]\n",
      " [  474  6145]]\n",
      "Precision Score:  0.97016103568\n",
      "Recall Score:  0.928387974014\n",
      "F1 Score:  0.948814946344\n"
     ]
    }
   ],
   "source": [
    "y_train_pred = cross_val_predict(sgd_clf, X_train, y_train, cv=5)\n",
    "\n",
    "# calculate confusion matrix\n",
    "\n",
    "print(\"Confusion Matrix: \\n\", confusion_matrix(y_train, y_train_pred))\n",
    "print(\"Precision Score: \", precision_score(y_train, y_train_pred))\n",
    "print(\"Recall Score: \", recall_score(y_train, y_train_pred))\n",
    "print(\"F1 Score: \", f1_score(y_train, y_train_pred))"
   ]
  },
  {
   "cell_type": "code",
   "execution_count": 24,
   "metadata": {},
   "outputs": [],
   "source": [
    "# Precision/Recall tradeoff\n",
    "\n",
    "y_scores_forest = cross_val_predict(sgd_clf, X_train, y_train, cv=5, method='decision_function')\n",
    "\n",
    "precisions, recalls, thresholds = precision_recall_curve(y_train, y_scores_forest)"
   ]
  },
  {
   "cell_type": "code",
   "execution_count": 27,
   "metadata": {},
   "outputs": [
    {
     "data": {
      "text/plain": [
       "<matplotlib.text.Text at 0x11a5bc240>"
      ]
     },
     "execution_count": 27,
     "metadata": {},
     "output_type": "execute_result"
    },
    {
     "data": {
      "image/png": "[encoded data removed]",
      "text/plain": [
       "<matplotlib.figure.Figure at 0x10d62d828>"
      ]
     },
     "metadata": {},
     "output_type": "display_data"
    }
   ],
   "source": [
    "plt.figure(figsize=(15,7))\n",
    "plt.plot(thresholds, precisions[:-1])\n",
    "plt.plot(thresholds, recalls[:-1])\n",
    "plt.xlabel('Threshold')"
   ]
  },
  {
   "cell_type": "code",
   "execution_count": 28,
   "metadata": {},
   "outputs": [
    {
     "name": "stdout",
     "output_type": "stream",
     "text": [
      "Number of carodiologists found:  3344\n",
      "0.301369863014\n"
     ]
    }
   ],
   "source": [
    "X_ = extractor.extract_X(phys_unknown)\n",
    "y_unknown_pred = sgd_clf.predict(X_)\n",
    "print(\"Number of carodiologists found: \", y_unknown_pred.sum())\n",
    "\n",
    "print(y_unknown_pred.sum()/len(y_unknown_pred))"
   ]
  },
  {
   "cell_type": "code",
   "execution_count": null,
   "metadata": {
    "collapsed": true
   },
   "outputs": [],
   "source": []
  }
 ],
 "metadata": {
  "kernelspec": {
   "display_name": "venv",
   "language": "python",
   "name": "venv"
  },
  "language_info": {
   "codemirror_mode": {
    "name": "ipython",
    "version": 3
   },
   "file_extension": ".py",
   "mimetype": "text/x-python",
   "name": "python",
   "nbconvert_exporter": "python",
   "pygments_lexer": "ipython3",
   "version": "3.6.1"
  }
 },
 "nbformat": 4,
 "nbformat_minor": 2
}
